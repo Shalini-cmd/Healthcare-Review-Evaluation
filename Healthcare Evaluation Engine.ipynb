{
  "nbformat": 4,
  "nbformat_minor": 0,
  "metadata": {
    "kernelspec": {
      "display_name": "Python 3",
      "language": "python",
      "name": "python3"
    },
    "language_info": {
      "codemirror_mode": {
        "name": "ipython",
        "version": 3
      },
      "file_extension": ".py",
      "mimetype": "text/x-python",
      "name": "python",
      "nbconvert_exporter": "python",
      "pygments_lexer": "ipython3",
      "version": "3.7.4"
    },
    "toc": {
      "base_numbering": 1,
      "nav_menu": {},
      "number_sections": true,
      "sideBar": true,
      "skip_h1_title": false,
      "title_cell": "Table of Contents",
      "title_sidebar": "Contents",
      "toc_cell": false,
      "toc_position": {},
      "toc_section_display": true,
      "toc_window_display": false
    },
    "colab": {
      "name": "sentiment_A_453.ipynb",
      "provenance": [],
      "collapsed_sections": []
    }
  },
  "cells": [
    {
      "cell_type": "markdown",
      "metadata": {
        "id": "EFJtsYjSZBd4",
        "colab_type": "text"
      },
      "source": [
        "# **Analyzing Amazon Reviews for the Health and Personal Care product category**"
      ]
    },
    {
      "cell_type": "markdown",
      "metadata": {
        "id": "jHhB5y8YYBU4",
        "colab_type": "text"
      },
      "source": [
        "**Summary**:\n",
        "\n",
        "Customer Satisfaction was derived from the ratings provided by customers alongside the review and was found to have very little correlation with the text and sentiment of the reviews provided by users.\n",
        "\n",
        "This is why we switch to predicting whether the review would be helpful for the customers or not, based solely on the text. To that end, we use Count Vectorizer to create features out of the text and then use a Logistic Regression for binary classification of review - helpful or not. \n",
        "\n",
        "This approach was finalised after comparing Logistic Regression, Logistic Regression with GridSearch CV, SVM, & Random Forest. These 4 classification models were built for both Count Vectorizer & TF-IDF techniques used to featurize text.\n",
        "\n",
        "We compare models on the basis of their recall - whether it was able to predict the review to be helpful correctly, reduce the number of False Negatives - reviews that were actually helpful were not caught by the model.\n",
        "You may notice that Random Forest has marginally better recall in this case but we are selecting Logistic Regression for its simplicity and explainability."
      ]
    },
    {
      "cell_type": "code",
      "metadata": {
        "id": "gzwWrzqlM0w0",
        "colab_type": "code",
        "outputId": "2b4a33ed-0284-4cd2-9fad-12975d008ffd",
        "colab": {
          "base_uri": "https://localhost:8080/",
          "height": 51
        }
      },
      "source": [
        "#Load the libraries\n",
        "import numpy as np\n",
        "import pandas as pd\n",
        "import seaborn as sns\n",
        "import matplotlib.pyplot as plt\n",
        "import nltk\n",
        "from sklearn.feature_extraction.text import CountVectorizer\n",
        "from sklearn.feature_extraction.text import TfidfVectorizer\n",
        "from sklearn.preprocessing import LabelBinarizer\n",
        "from nltk.corpus import stopwords\n",
        "from nltk.stem.porter import PorterStemmer\n",
        "from wordcloud import WordCloud,STOPWORDS\n",
        "from nltk.stem import WordNetLemmatizer\n",
        "from nltk.tokenize import word_tokenize,sent_tokenize\n",
        "from bs4 import BeautifulSoup\n",
        "import spacy\n",
        "import re,string,unicodedata\n",
        "from nltk.tokenize.toktok import ToktokTokenizer\n",
        "from nltk.stem import LancasterStemmer,WordNetLemmatizer\n",
        "from sklearn.linear_model import LogisticRegression,SGDClassifier\n",
        "from sklearn.naive_bayes import MultinomialNB\n",
        "from sklearn.svm import SVC\n",
        "#from textblob import TextBlob\n",
        "#from textblob import Word\n",
        "from sklearn.metrics import classification_report,confusion_matrix,accuracy_score\n",
        "\n",
        "import os\n",
        "import warnings\n",
        "warnings.filterwarnings('ignore')\n",
        "import numpy as np\n",
        "import pandas as pd\n",
        "from sklearn.linear_model import LogisticRegression\n",
        "from sklearn.model_selection import train_test_split\n",
        "from sklearn.svm import SVC\n",
        "from sklearn.model_selection import StratifiedKFold\n",
        "from sklearn.model_selection import GridSearchCV\n",
        "from sklearn.ensemble import RandomForestClassifier\n",
        "import matplotlib.pyplot as plt\n",
        "from sklearn.pipeline import Pipeline\n",
        "import seaborn as sns\n",
        "from sklearn.metrics import make_scorer\n",
        "from sklearn.preprocessing import StandardScaler\n",
        "from sklearn.metrics import confusion_matrix\n",
        "from sklearn.metrics import accuracy_score\n",
        "from sklearn.metrics import recall_score\n",
        "from sklearn.metrics import precision_score\n",
        "from sklearn.metrics import f1_score\n",
        "from sklearn.metrics import roc_auc_score, roc_curve, auc\n",
        "import xgboost as xgb\n",
        "from imblearn.over_sampling import SMOTE\n",
        "from lightgbm import LGBMClassifier\n",
        "from sklearn.metrics import accuracy_score, roc_auc_score, f1_score\n",
        "import json\n",
        "import nltk\n",
        "nltk.download('stopwords')\n",
        "from nltk.corpus import stopwords\n",
        "stopword_list = stopwords.words('english')"
      ],
      "execution_count": 2,
      "outputs": [
        {
          "output_type": "stream",
          "text": [
            "[nltk_data] Downloading package stopwords to /root/nltk_data...\n",
            "[nltk_data]   Unzipping corpora/stopwords.zip.\n"
          ],
          "name": "stdout"
        }
      ]
    },
    {
      "cell_type": "code",
      "metadata": {
        "id": "wUVI_JP4M0xW",
        "colab_type": "code",
        "colab": {}
      },
      "source": [
        "# data read"
      ],
      "execution_count": 0,
      "outputs": []
    },
    {
      "cell_type": "code",
      "metadata": {
        "id": "KbxxE7N_M0xt",
        "colab_type": "code",
        "colab": {}
      },
      "source": [
        "file_name = 'reviews_Health_and_Personal_Care_5.json'\n",
        "records = []\n",
        "with open(file_name, 'r') as f:\n",
        "    for line in f:\n",
        "        data = json.loads(line)\n",
        "        records.append(data)\n",
        "    f.close()\n",
        "review = pd.DataFrame(records)\n",
        "review = review.reset_index()\n"
      ],
      "execution_count": 0,
      "outputs": []
    },
    {
      "cell_type": "code",
      "metadata": {
        "id": "KpMIGWOuM0y7",
        "colab_type": "code",
        "colab": {}
      },
      "source": [
        "re_punc = re.compile('[%s]' % re.escape(string.punctuation))\n",
        "\n",
        "def data_cleaning(text):\n",
        "    soup = BeautifulSoup(text, \"html.parser\")\n",
        "    text = soup.get_text()\n",
        "    tokens = [re_punc.sub('', w) for w in text.split()]\n",
        "    tokens = [token for token in tokens if token.isalpha()]\n",
        "    tokens = [token for token in tokens if not token in stopword_list]\n",
        "    tokens = [word for word in tokens if len(word) > 1]\n",
        "    return tokens\n",
        "def simple_stemmer(text):\n",
        "    ps=nltk.porter.PorterStemmer()\n",
        "    text= ' '.join([ps.stem(word) for word in text])\n",
        "    return text"
      ],
      "execution_count": 0,
      "outputs": []
    },
    {
      "cell_type": "code",
      "metadata": {
        "id": "ywh7TM3pd-jD",
        "colab_type": "code",
        "colab": {}
      },
      "source": [
        ""
      ],
      "execution_count": 0,
      "outputs": []
    },
    {
      "cell_type": "code",
      "metadata": {
        "colab_type": "code",
        "outputId": "409f0b9d-4ade-4a96-e07d-949e098abe4e",
        "id": "kERsGz5hUC-e",
        "colab": {
          "base_uri": "https://localhost:8080/",
          "height": 331
        }
      },
      "source": [
        "\n",
        "# word cloud\n",
        "plt.rcParams['figure.figsize'] = (5, 50)\n",
        "wordcloud = WordCloud(background_color = 'white', width = 1200,  height = 1200, max_words = 121).generate(str(review[\"reviewText\"]))\n",
        "plt.imshow(wordcloud)\n",
        "plt.axis('off')\n",
        "plt.title('Most Frequent Words',fontsize = 20)\n",
        "plt.show()\n"
      ],
      "execution_count": 35,
      "outputs": [
        {
          "output_type": "display_data",
          "data": {
            "image/png": "[encoded data removed]",
            "text/plain": [
              "<Figure size 360x3600 with 1 Axes>"
            ]
          },
          "metadata": {
            "tags": [],
            "needs_background": "light"
          }
        }
      ]
    },
    {
      "cell_type": "code",
      "metadata": {
        "id": "_GoMYIU5d9Tb",
        "colab_type": "code",
        "colab": {}
      },
      "source": [
        "# Defining the metric Customer Satisfaction - If customer's rating is 5 then they're satisfied, otherwise not.\n",
        "# Since we're targeting unsatisfied customers - the target variable is defined accordingly.\n",
        "review.loc[:, 'csat'] = np.where(review.loc[:, 'overall'] <= 4, 1, 0)"
      ],
      "execution_count": 0,
      "outputs": []
    },
    {
      "cell_type": "code",
      "metadata": {
        "id": "Drq-OKToUzrd",
        "colab_type": "code",
        "colab": {}
      },
      "source": [
        "review['helpful_numerator'] = review['helpful'].apply(lambda x: x[0])\n",
        "review['helpful_denominator'] = review['helpful'].apply(lambda x: x[1])\n"
      ],
      "execution_count": 0,
      "outputs": []
    },
    {
      "cell_type": "code",
      "metadata": {
        "id": "Zlc-yxYgQwuJ",
        "colab_type": "code",
        "colab": {
          "base_uri": "https://localhost:8080/",
          "height": 454
        },
        "outputId": "7378604c-3bde-4ba7-e172-1edd35b70d73"
      },
      "source": [
        "d1 = review[review['helpful_denominator']>0]\n",
        "# reviews per item\n",
        "viridis = plt.get_cmap('viridis', 8)\n",
        "plt.rcParams['figure.figsize'] = (18, 7)\n",
        "d1[\"helpful_denominator\"].value_counts().head(40).plot.bar(color = viridis(np.linspace(0, 1, 40)))\n",
        "plt.title('No of reviews viewed', fontsize = 20)\n",
        "plt.xticks(rotation = 75 )\n",
        "plt.grid()\n",
        "plt.show()\n"
      ],
      "execution_count": 30,
      "outputs": [
        {
          "output_type": "display_data",
          "data": {
            "image/png": "[encoded data removed]",
            "text/plain": [
              "<Figure size 1296x504 with 1 Axes>"
            ]
          },
          "metadata": {
            "tags": [],
            "needs_background": "light"
          }
        }
      ]
    },
    {
      "cell_type": "markdown",
      "metadata": {
        "id": "xbJcm6jDcnmX",
        "colab_type": "text"
      },
      "source": [
        "# Review Helpfulness"
      ]
    },
    {
      "cell_type": "code",
      "metadata": {
        "id": "ZQlM4yGHZCxy",
        "colab_type": "code",
        "colab": {}
      },
      "source": [
        "reviews = review.sample(frac=0.5, replace=True, random_state=1)"
      ],
      "execution_count": 0,
      "outputs": []
    },
    {
      "cell_type": "code",
      "metadata": {
        "id": "0JCSrMDiM0x3",
        "colab_type": "code",
        "colab": {
          "base_uri": "https://localhost:8080/",
          "height": 547
        },
        "outputId": "7c09cd80-7155-4fa3-d015-c808ff2adfd5"
      },
      "source": [
        "reviews.head(5)"
      ],
      "execution_count": 12,
      "outputs": [
        {
          "output_type": "execute_result",
          "data": {
            "text/html": [
              "<div>\n",
              "<style scoped>\n",
              "    .dataframe tbody tr th:only-of-type {\n",
              "        vertical-align: middle;\n",
              "    }\n",
              "\n",
              "    .dataframe tbody tr th {\n",
              "        vertical-align: top;\n",
              "    }\n",
              "\n",
              "    .dataframe thead th {\n",
              "        text-align: right;\n",
              "    }\n",
              "</style>\n",
              "<table border=\"1\" class=\"dataframe\">\n",
              "  <thead>\n",
              "    <tr style=\"text-align: right;\">\n",
              "      <th></th>\n",
              "      <th>index</th>\n",
              "      <th>reviewerID</th>\n",
              "      <th>asin</th>\n",
              "      <th>reviewerName</th>\n",
              "      <th>helpful</th>\n",
              "      <th>reviewText</th>\n",
              "      <th>overall</th>\n",
              "      <th>summary</th>\n",
              "      <th>unixReviewTime</th>\n",
              "      <th>reviewTime</th>\n",
              "      <th>helpful_numerator</th>\n",
              "      <th>helpful_denominator</th>\n",
              "      <th>Helpful</th>\n",
              "    </tr>\n",
              "  </thead>\n",
              "  <tbody>\n",
              "    <tr>\n",
              "      <th>312201</th>\n",
              "      <td>312201</td>\n",
              "      <td>A3B0V4HRHE3ITR</td>\n",
              "      <td>B00BPBLMCS</td>\n",
              "      <td>W. Burton</td>\n",
              "      <td>[10, 12]</td>\n",
              "      <td>thi doityourself shave set brilliant thought m...</td>\n",
              "      <td>5.0</td>\n",
              "      <td>Great Surprise</td>\n",
              "      <td>1369699200</td>\n",
              "      <td>05 28, 2013</td>\n",
              "      <td>10</td>\n",
              "      <td>12</td>\n",
              "      <td>1</td>\n",
              "    </tr>\n",
              "    <tr>\n",
              "      <th>293372</th>\n",
              "      <td>293372</td>\n",
              "      <td>A1JCKIUEL3G1QZ</td>\n",
              "      <td>B008ZIVNDM</td>\n",
              "      <td>Susan Sparks</td>\n",
              "      <td>[4, 7]</td>\n",
              "      <td>most product found work regardless result othe...</td>\n",
              "      <td>5.0</td>\n",
              "      <td>This Green Coffee is amazing it is REAL</td>\n",
              "      <td>1345420800</td>\n",
              "      <td>08 20, 2012</td>\n",
              "      <td>4</td>\n",
              "      <td>7</td>\n",
              "      <td>0</td>\n",
              "    </tr>\n",
              "    <tr>\n",
              "      <th>51668</th>\n",
              "      <td>51668</td>\n",
              "      <td>A3KDH35C223VG5</td>\n",
              "      <td>B000G7YW74</td>\n",
              "      <td>R. Morel</td>\n",
              "      <td>[10, 10]</td>\n",
              "      <td>thi devic littl piec plastic simpli get job do...</td>\n",
              "      <td>5.0</td>\n",
              "      <td>Very good product.</td>\n",
              "      <td>1190073600</td>\n",
              "      <td>09 18, 2007</td>\n",
              "      <td>10</td>\n",
              "      <td>10</td>\n",
              "      <td>1</td>\n",
              "    </tr>\n",
              "    <tr>\n",
              "      <th>294103</th>\n",
              "      <td>294103</td>\n",
              "      <td>A3MWXF2CLXHBRI</td>\n",
              "      <td>B0093162SQ</td>\n",
              "      <td>Catherine Jo Morgan \"abstract expressionist h...</td>\n",
              "      <td>[3, 7]</td>\n",
              "      <td>compar older philip wakeup light use halogen b...</td>\n",
              "      <td>3.0</td>\n",
              "      <td>Preliminary review: not as wonderful as it sounds</td>\n",
              "      <td>1350345600</td>\n",
              "      <td>10 16, 2012</td>\n",
              "      <td>3</td>\n",
              "      <td>7</td>\n",
              "      <td>0</td>\n",
              "    </tr>\n",
              "    <tr>\n",
              "      <th>117565</th>\n",
              "      <td>117565</td>\n",
              "      <td>AA5ANBUMLM37V</td>\n",
              "      <td>B001AFD5P6</td>\n",
              "      <td>Cheryl G. \"cgtravel\"</td>\n",
              "      <td>[6, 6]</td>\n",
              "      <td>thi cane great mani posit comment bought cute ...</td>\n",
              "      <td>5.0</td>\n",
              "      <td>Love this cane!</td>\n",
              "      <td>1274572800</td>\n",
              "      <td>05 23, 2010</td>\n",
              "      <td>6</td>\n",
              "      <td>6</td>\n",
              "      <td>1</td>\n",
              "    </tr>\n",
              "  </tbody>\n",
              "</table>\n",
              "</div>"
            ],
            "text/plain": [
              "         index      reviewerID  ... helpful_denominator Helpful\n",
              "312201  312201  A3B0V4HRHE3ITR  ...                  12       1\n",
              "293372  293372  A1JCKIUEL3G1QZ  ...                   7       0\n",
              "51668    51668  A3KDH35C223VG5  ...                  10       1\n",
              "294103  294103  A3MWXF2CLXHBRI  ...                   7       0\n",
              "117565  117565   AA5ANBUMLM37V  ...                   6       1\n",
              "\n",
              "[5 rows x 13 columns]"
            ]
          },
          "metadata": {
            "tags": []
          },
          "execution_count": 12
        }
      ]
    },
    {
      "cell_type": "code",
      "metadata": {
        "id": "PoR95_IWM0yx",
        "colab_type": "code",
        "colab": {}
      },
      "source": [
        "# data cleaning"
      ],
      "execution_count": 0,
      "outputs": []
    },
    {
      "cell_type": "code",
      "metadata": {
        "id": "yUNr4sM0M0zB",
        "colab_type": "code",
        "colab": {}
      },
      "source": [
        "reviews[\"reviewText_1\"] = reviews[\"reviewText\"].apply(data_cleaning)"
      ],
      "execution_count": 0,
      "outputs": []
    },
    {
      "cell_type": "code",
      "metadata": {
        "id": "3tZFWHwwR8C3",
        "colab_type": "code",
        "colab": {}
      },
      "source": [
        "reviews[\"reviewText_1\"] = reviews[\"reviewText_1\"].apply(simple_stemmer)"
      ],
      "execution_count": 0,
      "outputs": []
    },
    {
      "cell_type": "code",
      "metadata": {
        "id": "4Y1T6UsWM0zj",
        "colab_type": "code",
        "colab": {}
      },
      "source": [
        "reviews['helpful_numerator'] = reviews['helpful'].apply(lambda x: x[0])\n",
        "reviews['helpful_denominator'] = reviews['helpful'].apply(lambda x: x[1])\n"
      ],
      "execution_count": 0,
      "outputs": []
    },
    {
      "cell_type": "code",
      "metadata": {
        "id": "onD6nR1uM0zx",
        "colab_type": "code",
        "colab": {}
      },
      "source": [
        "threshold = 0.8\n",
        "\n",
        "reviews.loc[:, 'Helpful'] = np.where(reviews.loc[:, 'helpful_numerator']/reviews.loc[:, 'helpful_denominator'] > threshold, 1, 0)"
      ],
      "execution_count": 0,
      "outputs": []
    },
    {
      "cell_type": "code",
      "metadata": {
        "id": "0ANAnxsD6rvf",
        "colab_type": "code",
        "colab": {}
      },
      "source": [
        "reviews = reviews.loc[reviews[\"helpful_denominator\"]>5]"
      ],
      "execution_count": 0,
      "outputs": []
    },
    {
      "cell_type": "code",
      "metadata": {
        "id": "oG12RqkzQkVx",
        "colab_type": "code",
        "outputId": "e29518fc-3f1c-4b7c-fca1-90d88bb5e3f1",
        "colab": {
          "base_uri": "https://localhost:8080/",
          "height": 68
        }
      },
      "source": [
        "reviews[\"Helpful\"].value_counts()"
      ],
      "execution_count": 24,
      "outputs": [
        {
          "output_type": "execute_result",
          "data": {
            "text/plain": [
              "1    9720\n",
              "0    7433\n",
              "Name: Helpful, dtype: int64"
            ]
          },
          "metadata": {
            "tags": []
          },
          "execution_count": 24
        }
      ]
    },
    {
      "cell_type": "code",
      "metadata": {
        "id": "MqmjERPQN-57",
        "colab_type": "code",
        "colab": {
          "base_uri": "https://localhost:8080/",
          "height": 71
        },
        "outputId": "49a8855f-4d3b-4e20-ee41-1c37b1007a0e"
      },
      "source": [
        "import matplotlib.pyplot as plt\n",
        "import seaborn as sns\n",
        "%matplotlib inline\n",
        "import plotly.offline as py\n",
        "import plotly.graph_objs as go\n",
        "import plotly.tools as tls\n"
      ],
      "execution_count": 1,
      "outputs": [
        {
          "output_type": "stream",
          "text": [
            "/usr/local/lib/python3.6/dist-packages/statsmodels/tools/_testing.py:19: FutureWarning: pandas.util.testing is deprecated. Use the functions in the public API at pandas.testing instead.\n",
            "  import pandas.util.testing as tm\n"
          ],
          "name": "stderr"
        }
      ]
    },
    {
      "cell_type": "code",
      "metadata": {
        "id": "hkAGlFe_OEHl",
        "colab_type": "code",
        "colab": {
          "base_uri": "https://localhost:8080/",
          "height": 331
        },
        "outputId": "bfab1abf-be48-4e41-8530-c18b9cefa0de"
      },
      "source": [
        "wc1 = reviews.loc[reviews[\"Helpful\"]==1]\n",
        "# word cloud\n",
        "plt.rcParams['figure.figsize'] = (5, 50)\n",
        "wordcloud = WordCloud(background_color = 'white', width = 1200,  height = 1200, max_words = 121).generate(str(wc1[\"reviewText\"]))\n",
        "plt.imshow(wordcloud)\n",
        "plt.axis('off')\n",
        "plt.title('Most Frequent Words',fontsize = 20)\n",
        "plt.show()\n"
      ],
      "execution_count": 25,
      "outputs": [
        {
          "output_type": "display_data",
          "data": {
            "image/png": "[encoded data removed]",
            "text/plain": [
              "<Figure size 360x3600 with 1 Axes>"
            ]
          },
          "metadata": {
            "tags": [],
            "needs_background": "light"
          }
        }
      ]
    },
    {
      "cell_type": "code",
      "metadata": {
        "id": "YGMgJlOOLYPi",
        "colab_type": "code",
        "colab": {
          "base_uri": "https://localhost:8080/",
          "height": 512
        },
        "outputId": "e62d9e4b-5ea5-4bc8-d9cf-65e267616842"
      },
      "source": [
        "\n",
        "# reviews per item\n",
        "viridis = plt.get_cmap('viridis', 8)\n",
        "plt.rcParams['figure.figsize'] = (18, 7)\n",
        "wc1[\"asin\"].value_counts().head(40).plot.bar(color = viridis(np.linspace(0, 1, 40)))\n",
        "plt.title('No of reviews per item', fontsize = 20)\n",
        "plt.xticks(rotation = 75 )\n",
        "plt.grid()\n",
        "plt.show()\n"
      ],
      "execution_count": 17,
      "outputs": [
        {
          "output_type": "display_data",
          "data": {
            "image/png": "[encoded data removed]",
            "text/plain": [
              "<Figure size 1296x504 with 1 Axes>"
            ]
          },
          "metadata": {
            "tags": [],
            "needs_background": "light"
          }
        }
      ]
    },
    {
      "cell_type": "code",
      "metadata": {
        "id": "eymbUUJCVEyS",
        "colab_type": "code",
        "colab": {
          "base_uri": "https://localhost:8080/",
          "height": 454
        },
        "outputId": "ddc8c192-8da2-4b65-c4b1-447c9e5dd5e5"
      },
      "source": [
        "d1 = review[review[\"helpful_denominator\"]>0]\n",
        "# reviews per item\n",
        "viridis = plt.get_cmap('viridis', 8)\n",
        "plt.rcParams['figure.figsize'] = (18, 7)\n",
        "d1[\"helpful_denominator\"].value_counts().head(10).plot.bar(color = viridis(np.linspace(0, 1, 40)))\n",
        "plt.title('No of people who viewed the review', fontsize = 20)\n",
        "plt.xticks(rotation = 75 )\n",
        "plt.grid()\n",
        "plt.show()\n"
      ],
      "execution_count": 31,
      "outputs": [
        {
          "output_type": "display_data",
          "data": {
            "image/png": "[encoded data removed]",
            "text/plain": [
              "<Figure size 1296x504 with 1 Axes>"
            ]
          },
          "metadata": {
            "tags": [],
            "needs_background": "light"
          }
        }
      ]
    },
    {
      "cell_type": "markdown",
      "metadata": {
        "id": "sKzGIQoYU6ep",
        "colab_type": "text"
      },
      "source": [
        "## Count Vectorizer"
      ]
    },
    {
      "cell_type": "code",
      "metadata": {
        "id": "qlY9y-wwcuF5",
        "colab_type": "code",
        "outputId": "3f1572ad-0177-4439-ecd7-3bc7a3476bf6",
        "colab": {
          "base_uri": "https://localhost:8080/",
          "height": 119
        }
      },
      "source": [
        "X_train, X_test, y_train, y_test = train_test_split(reviews[\"reviewText_1\"], reviews[\"Helpful\"], train_size = 0.7)\n",
        "\n",
        "print(X_train.shape,y_train.shape)\n",
        "print(X_test.shape,y_test.shape)\n",
        "\n",
        "cv=CountVectorizer(min_df=0,max_df=1,binary=False,ngram_range=(1,3))\n",
        "#transformed train reviews\n",
        "cv_train_reviews=cv.fit_transform(X_train)\n",
        "#transformed test reviews\n",
        "cv_test_reviews=cv.transform(X_test)\n",
        "\n",
        "print('BOW_cv_train:',cv_train_reviews.shape)\n",
        "print('BOW_cv_test:',cv_test_reviews.shape)\n",
        "\n"
      ],
      "execution_count": 0,
      "outputs": [
        {
          "output_type": "stream",
          "text": [
            "(12007,) (12007,)\n",
            "(5146,) (5146,)\n",
            "BOW_cv_train: (12007, 1079572)\n",
            "BOW_cv_test: (5146, 1079572)\n",
            "Tfidf_train: (12007, 1079572)\n",
            "Tfidf_test: (5146, 1079572)\n"
          ],
          "name": "stdout"
        }
      ]
    },
    {
      "cell_type": "markdown",
      "metadata": {
        "id": "ioO6XIrc28_1",
        "colab_type": "text"
      },
      "source": [
        "### Machine Learning Algorithms"
      ]
    },
    {
      "cell_type": "code",
      "metadata": {
        "id": "H89DzraZSdZP",
        "colab_type": "code",
        "colab": {}
      },
      "source": [
        "# import ML libraries\n",
        "from sklearn.preprocessing import StandardScaler\n",
        "from sklearn.model_selection import train_test_split\n",
        "from sklearn.model_selection import GridSearchCV\n",
        "from sklearn.linear_model import LogisticRegression\n",
        "from sklearn import metrics\n",
        "from sklearn import svm\n",
        "from matplotlib.colors import ListedColormap\n",
        "from sklearn.ensemble import RandomForestClassifier"
      ],
      "execution_count": 0,
      "outputs": []
    },
    {
      "cell_type": "markdown",
      "metadata": {
        "id": "dzDxmFBe3Bep",
        "colab_type": "text"
      },
      "source": [
        "#### Logistic Regression"
      ]
    },
    {
      "cell_type": "code",
      "metadata": {
        "id": "F8NIsOKQsg5i",
        "colab_type": "code",
        "colab": {}
      },
      "source": [
        "logreg = LogisticRegression()"
      ],
      "execution_count": 0,
      "outputs": []
    },
    {
      "cell_type": "code",
      "metadata": {
        "id": "ADqlgztysg5m",
        "colab_type": "code",
        "colab": {}
      },
      "source": [
        "logreg.fit(cv_train_reviews, y_train)\n",
        "y_train_pred = logreg.predict(cv_train_reviews)\n",
        "y_test_pred = logreg.predict(cv_test_reviews)"
      ],
      "execution_count": 0,
      "outputs": []
    },
    {
      "cell_type": "code",
      "metadata": {
        "id": "1P4L9llksg5s",
        "colab_type": "code",
        "outputId": "a36f6734-31f1-42a9-c56c-c6307afcf0ed",
        "colab": {
          "base_uri": "https://localhost:8080/",
          "height": 142
        }
      },
      "source": [
        "pd.crosstab(y_test, y_test_pred, rownames=['Actual Result'], colnames=['Predicted Result'])"
      ],
      "execution_count": 0,
      "outputs": [
        {
          "output_type": "execute_result",
          "data": {
            "text/html": [
              "<div>\n",
              "<style scoped>\n",
              "    .dataframe tbody tr th:only-of-type {\n",
              "        vertical-align: middle;\n",
              "    }\n",
              "\n",
              "    .dataframe tbody tr th {\n",
              "        vertical-align: top;\n",
              "    }\n",
              "\n",
              "    .dataframe thead th {\n",
              "        text-align: right;\n",
              "    }\n",
              "</style>\n",
              "<table border=\"1\" class=\"dataframe\">\n",
              "  <thead>\n",
              "    <tr style=\"text-align: right;\">\n",
              "      <th>Predicted Result</th>\n",
              "      <th>0</th>\n",
              "      <th>1</th>\n",
              "    </tr>\n",
              "    <tr>\n",
              "      <th>Actual Result</th>\n",
              "      <th></th>\n",
              "      <th></th>\n",
              "    </tr>\n",
              "  </thead>\n",
              "  <tbody>\n",
              "    <tr>\n",
              "      <th>0</th>\n",
              "      <td>615</td>\n",
              "      <td>1601</td>\n",
              "    </tr>\n",
              "    <tr>\n",
              "      <th>1</th>\n",
              "      <td>84</td>\n",
              "      <td>2846</td>\n",
              "    </tr>\n",
              "  </tbody>\n",
              "</table>\n",
              "</div>"
            ],
            "text/plain": [
              "Predicted Result    0     1\n",
              "Actual Result              \n",
              "0                 615  1601\n",
              "1                  84  2846"
            ]
          },
          "metadata": {
            "tags": []
          },
          "execution_count": 62
        }
      ]
    },
    {
      "cell_type": "code",
      "metadata": {
        "id": "bBBWLJuGsg5w",
        "colab_type": "code",
        "outputId": "9d2ebb9a-a8f5-4754-875b-1105578a554e",
        "colab": {
          "base_uri": "https://localhost:8080/",
          "height": 306
        }
      },
      "source": [
        "print(\"Confusion Matrix:\\n\", metrics.confusion_matrix(y_test, y_test_pred))\n",
        "print(\"Classification report:\\n\", metrics.classification_report(y_test, y_test_pred))\n",
        "print(\"Accuracy:\\t\", metrics.accuracy_score(y_test, y_test_pred))\n",
        "print(\"Precision:\\t\", metrics.precision_score(y_test, y_test_pred))\n",
        "print(\"Recall:   \\t\", metrics.recall_score(y_test, y_test_pred))\n",
        "print(\"ROC AUC score:\\t\", metrics.roc_auc_score(y_test, y_test_pred))"
      ],
      "execution_count": 0,
      "outputs": [
        {
          "output_type": "stream",
          "text": [
            "Confusion Matrix:\n",
            " [[ 615 1601]\n",
            " [  84 2846]]\n",
            "Classification report:\n",
            "               precision    recall  f1-score   support\n",
            "\n",
            "           0       0.88      0.28      0.42      2216\n",
            "           1       0.64      0.97      0.77      2930\n",
            "\n",
            "    accuracy                           0.67      5146\n",
            "   macro avg       0.76      0.62      0.60      5146\n",
            "weighted avg       0.74      0.67      0.62      5146\n",
            "\n",
            "Accuracy:\t 0.6725612125923047\n",
            "Precision:\t 0.6399820103440522\n",
            "Recall:   \t 0.9713310580204778\n",
            "ROC AUC score:\t 0.6244290669163761\n"
          ],
          "name": "stdout"
        }
      ]
    },
    {
      "cell_type": "markdown",
      "metadata": {
        "id": "lEDIr9wZsg50",
        "colab_type": "text"
      },
      "source": [
        "#### Logistic Regression - CV"
      ]
    },
    {
      "cell_type": "code",
      "metadata": {
        "id": "W83gKsyJsg51",
        "colab_type": "code",
        "outputId": "a54bdbf2-7ad0-4d41-9faa-5aeb05420072",
        "colab": {
          "base_uri": "https://localhost:8080/",
          "height": 51
        }
      },
      "source": [
        "penalty = ['l2']\n",
        "C = np.logspace(-4, 4, 10)\n",
        "hyperparameters = dict(C=C, penalty=penalty)\n",
        "\n",
        "logreg_gridsearchCV = GridSearchCV(LogisticRegression(solver = 'lbfgs'), hyperparameters, cv=5, verbose=0)\n",
        "\n",
        "logreg_gridsearchCV.fit(cv_train_reviews, y_train)\n",
        "\n",
        "print('Best Penalty:', logreg_gridsearchCV.best_estimator_.get_params()['penalty'])\n",
        "print('Best C:', logreg_gridsearchCV.best_estimator_.get_params()['C'])"
      ],
      "execution_count": 0,
      "outputs": [
        {
          "output_type": "stream",
          "text": [
            "Best Penalty: l2\n",
            "Best C: 0.0001\n"
          ],
          "name": "stdout"
        }
      ]
    },
    {
      "cell_type": "code",
      "metadata": {
        "id": "87bMKFcHsg55",
        "colab_type": "code",
        "outputId": "f314a737-549d-429c-df32-fec4766bff0d",
        "colab": {
          "base_uri": "https://localhost:8080/",
          "height": 142
        }
      },
      "source": [
        "y_test_pred = logreg_gridsearchCV.predict(cv_test_reviews)\n",
        "pd.crosstab(y_test, y_test_pred, rownames=['Actual Result'], colnames=['Predicted Result'])"
      ],
      "execution_count": 0,
      "outputs": [
        {
          "output_type": "execute_result",
          "data": {
            "text/html": [
              "<div>\n",
              "<style scoped>\n",
              "    .dataframe tbody tr th:only-of-type {\n",
              "        vertical-align: middle;\n",
              "    }\n",
              "\n",
              "    .dataframe tbody tr th {\n",
              "        vertical-align: top;\n",
              "    }\n",
              "\n",
              "    .dataframe thead th {\n",
              "        text-align: right;\n",
              "    }\n",
              "</style>\n",
              "<table border=\"1\" class=\"dataframe\">\n",
              "  <thead>\n",
              "    <tr style=\"text-align: right;\">\n",
              "      <th>Predicted Result</th>\n",
              "      <th>1</th>\n",
              "    </tr>\n",
              "    <tr>\n",
              "      <th>Actual Result</th>\n",
              "      <th></th>\n",
              "    </tr>\n",
              "  </thead>\n",
              "  <tbody>\n",
              "    <tr>\n",
              "      <th>0</th>\n",
              "      <td>2216</td>\n",
              "    </tr>\n",
              "    <tr>\n",
              "      <th>1</th>\n",
              "      <td>2930</td>\n",
              "    </tr>\n",
              "  </tbody>\n",
              "</table>\n",
              "</div>"
            ],
            "text/plain": [
              "Predicted Result     1\n",
              "Actual Result         \n",
              "0                 2216\n",
              "1                 2930"
            ]
          },
          "metadata": {
            "tags": []
          },
          "execution_count": 71
        }
      ]
    },
    {
      "cell_type": "code",
      "metadata": {
        "id": "pB0adjXOsg59",
        "colab_type": "code",
        "outputId": "4a184053-7c3a-4c51-b7b9-34c3add5e7b8",
        "colab": {
          "base_uri": "https://localhost:8080/",
          "height": 306
        }
      },
      "source": [
        "print(\"Confusion Matrix:\\n\", metrics.confusion_matrix(y_test, y_test_pred))\n",
        "print(\"Classification report:\\n\", metrics.classification_report(y_test, y_test_pred))\n",
        "print(\"Accuracy:\\t\", metrics.accuracy_score(y_test, y_test_pred))\n",
        "print(\"Precision:\\t\", metrics.precision_score(y_test, y_test_pred))\n",
        "print(\"Recall:   \\t\", metrics.recall_score(y_test, y_test_pred))\n",
        "print(\"ROC AUC score:\\t\", metrics.roc_auc_score(y_test, y_test_pred))"
      ],
      "execution_count": 0,
      "outputs": [
        {
          "output_type": "stream",
          "text": [
            "Confusion Matrix:\n",
            " [[   0 2216]\n",
            " [   0 2930]]\n",
            "Classification report:\n",
            "               precision    recall  f1-score   support\n",
            "\n",
            "           0       0.00      0.00      0.00      2216\n",
            "           1       0.57      1.00      0.73      2930\n",
            "\n",
            "    accuracy                           0.57      5146\n",
            "   macro avg       0.28      0.50      0.36      5146\n",
            "weighted avg       0.32      0.57      0.41      5146\n",
            "\n",
            "Accuracy:\t 0.569374271278663\n",
            "Precision:\t 0.569374271278663\n",
            "Recall:   \t 1.0\n",
            "ROC AUC score:\t 0.5\n"
          ],
          "name": "stdout"
        }
      ]
    },
    {
      "cell_type": "code",
      "metadata": {
        "id": "NQ1u0qgAXuX_",
        "colab_type": "code",
        "colab": {}
      },
      "source": [
        ""
      ],
      "execution_count": 0,
      "outputs": []
    },
    {
      "cell_type": "markdown",
      "metadata": {
        "id": "vyQ2-sSpsg6B",
        "colab_type": "text"
      },
      "source": [
        "#### Support Vector Machine"
      ]
    },
    {
      "cell_type": "markdown",
      "metadata": {
        "id": "2RJp_-Sqsg6C",
        "colab_type": "text"
      },
      "source": [
        "Linear Kernel"
      ]
    },
    {
      "cell_type": "code",
      "metadata": {
        "id": "XTBFU_Alsg6D",
        "colab_type": "code",
        "colab": {}
      },
      "source": [
        "svm_lin = svm.SVC(kernel = \"linear\")"
      ],
      "execution_count": 0,
      "outputs": []
    },
    {
      "cell_type": "code",
      "metadata": {
        "id": "2I2PLKbmsg6H",
        "colab_type": "code",
        "colab": {}
      },
      "source": [
        "svm_lin.fit(cv_train_reviews, y_train)\n",
        "y_test_pred = svm_lin.predict(cv_test_reviews)"
      ],
      "execution_count": 0,
      "outputs": []
    },
    {
      "cell_type": "code",
      "metadata": {
        "id": "_ddDA5xrsg6L",
        "colab_type": "code",
        "outputId": "9350ac06-9595-4bad-fe4c-8accef114da4",
        "colab": {
          "base_uri": "https://localhost:8080/",
          "height": 142
        }
      },
      "source": [
        "pd.crosstab(y_test, y_test_pred, rownames=['Actual Result'], colnames=['Predicted Result'])"
      ],
      "execution_count": 0,
      "outputs": [
        {
          "output_type": "execute_result",
          "data": {
            "text/html": [
              "<div>\n",
              "<style scoped>\n",
              "    .dataframe tbody tr th:only-of-type {\n",
              "        vertical-align: middle;\n",
              "    }\n",
              "\n",
              "    .dataframe tbody tr th {\n",
              "        vertical-align: top;\n",
              "    }\n",
              "\n",
              "    .dataframe thead th {\n",
              "        text-align: right;\n",
              "    }\n",
              "</style>\n",
              "<table border=\"1\" class=\"dataframe\">\n",
              "  <thead>\n",
              "    <tr style=\"text-align: right;\">\n",
              "      <th>Predicted Result</th>\n",
              "      <th>0</th>\n",
              "      <th>1</th>\n",
              "    </tr>\n",
              "    <tr>\n",
              "      <th>Actual Result</th>\n",
              "      <th></th>\n",
              "      <th></th>\n",
              "    </tr>\n",
              "  </thead>\n",
              "  <tbody>\n",
              "    <tr>\n",
              "      <th>0</th>\n",
              "      <td>528</td>\n",
              "      <td>1688</td>\n",
              "    </tr>\n",
              "    <tr>\n",
              "      <th>1</th>\n",
              "      <td>8</td>\n",
              "      <td>2922</td>\n",
              "    </tr>\n",
              "  </tbody>\n",
              "</table>\n",
              "</div>"
            ],
            "text/plain": [
              "Predicted Result    0     1\n",
              "Actual Result              \n",
              "0                 528  1688\n",
              "1                   8  2922"
            ]
          },
          "metadata": {
            "tags": []
          },
          "execution_count": 75
        }
      ]
    },
    {
      "cell_type": "code",
      "metadata": {
        "id": "1-JN8Lvasg6V",
        "colab_type": "code",
        "outputId": "6fb17013-5906-4ce0-cda6-3e090ef127a7",
        "colab": {
          "base_uri": "https://localhost:8080/",
          "height": 306
        }
      },
      "source": [
        "print(\"Confusion Matrix:\\n\", metrics.confusion_matrix(y_test, y_test_pred))\n",
        "print(\"Classification report:\\n\", metrics.classification_report(y_test, y_test_pred))\n",
        "print(\"Accuracy:\\t\", metrics.accuracy_score(y_test, y_test_pred))\n",
        "print(\"Precision:\\t\", metrics.precision_score(y_test, y_test_pred))\n",
        "print(\"Recall:   \\t\", metrics.recall_score(y_test, y_test_pred))\n",
        "print(\"ROC AUC score:\\t\", metrics.roc_auc_score(y_test, y_test_pred))"
      ],
      "execution_count": 0,
      "outputs": [
        {
          "output_type": "stream",
          "text": [
            "Confusion Matrix:\n",
            " [[ 528 1688]\n",
            " [   8 2922]]\n",
            "Classification report:\n",
            "               precision    recall  f1-score   support\n",
            "\n",
            "           0       0.99      0.24      0.38      2216\n",
            "           1       0.63      1.00      0.78      2930\n",
            "\n",
            "    accuracy                           0.67      5146\n",
            "   macro avg       0.81      0.62      0.58      5146\n",
            "weighted avg       0.79      0.67      0.61      5146\n",
            "\n",
            "Accuracy:\t 0.6704236300038865\n",
            "Precision:\t 0.6338394793926247\n",
            "Recall:   \t 0.9972696245733789\n",
            "ROC AUC score:\t 0.6177683862939096\n"
          ],
          "name": "stdout"
        }
      ]
    },
    {
      "cell_type": "code",
      "metadata": {
        "id": "adq5eKdmXuQb",
        "colab_type": "code",
        "colab": {}
      },
      "source": [
        ""
      ],
      "execution_count": 0,
      "outputs": []
    },
    {
      "cell_type": "markdown",
      "metadata": {
        "id": "ef0T5Lfisg7V",
        "colab_type": "text"
      },
      "source": [
        "#### Random Forest Classification"
      ]
    },
    {
      "cell_type": "code",
      "metadata": {
        "id": "dJ-HABeIsg7V",
        "colab_type": "code",
        "colab": {}
      },
      "source": [
        "rf = RandomForestClassifier(n_estimators = 100, random_state = 42)"
      ],
      "execution_count": 0,
      "outputs": []
    },
    {
      "cell_type": "code",
      "metadata": {
        "id": "EzeMS-Kzsg7a",
        "colab_type": "code",
        "outputId": "7b055f36-a3ba-40df-c294-c4e5d3be3a5e",
        "colab": {
          "base_uri": "https://localhost:8080/",
          "height": 34
        }
      },
      "source": [
        "rf.fit(cv_train_reviews, y_train)\n",
        "y_test_pred = rf.predict(cv_test_reviews)\n",
        "rf.score(cv_test_reviews, y_test)"
      ],
      "execution_count": 0,
      "outputs": [
        {
          "output_type": "execute_result",
          "data": {
            "text/plain": [
              "0.6682860474154684"
            ]
          },
          "metadata": {
            "tags": []
          },
          "execution_count": 78
        }
      ]
    },
    {
      "cell_type": "code",
      "metadata": {
        "id": "8_w9DAz6sg7e",
        "colab_type": "code",
        "outputId": "83369d5b-eb5f-42e9-cbdb-c23e2eccc0cf",
        "colab": {
          "base_uri": "https://localhost:8080/",
          "height": 142
        }
      },
      "source": [
        "pd.crosstab(y_test, y_test_pred, rownames=['Actual Result'], colnames=['Predicted Result'])"
      ],
      "execution_count": 0,
      "outputs": [
        {
          "output_type": "execute_result",
          "data": {
            "text/html": [
              "<div>\n",
              "<style scoped>\n",
              "    .dataframe tbody tr th:only-of-type {\n",
              "        vertical-align: middle;\n",
              "    }\n",
              "\n",
              "    .dataframe tbody tr th {\n",
              "        vertical-align: top;\n",
              "    }\n",
              "\n",
              "    .dataframe thead th {\n",
              "        text-align: right;\n",
              "    }\n",
              "</style>\n",
              "<table border=\"1\" class=\"dataframe\">\n",
              "  <thead>\n",
              "    <tr style=\"text-align: right;\">\n",
              "      <th>Predicted Result</th>\n",
              "      <th>0</th>\n",
              "      <th>1</th>\n",
              "    </tr>\n",
              "    <tr>\n",
              "      <th>Actual Result</th>\n",
              "      <th></th>\n",
              "      <th></th>\n",
              "    </tr>\n",
              "  </thead>\n",
              "  <tbody>\n",
              "    <tr>\n",
              "      <th>0</th>\n",
              "      <td>552</td>\n",
              "      <td>1664</td>\n",
              "    </tr>\n",
              "    <tr>\n",
              "      <th>1</th>\n",
              "      <td>43</td>\n",
              "      <td>2887</td>\n",
              "    </tr>\n",
              "  </tbody>\n",
              "</table>\n",
              "</div>"
            ],
            "text/plain": [
              "Predicted Result    0     1\n",
              "Actual Result              \n",
              "0                 552  1664\n",
              "1                  43  2887"
            ]
          },
          "metadata": {
            "tags": []
          },
          "execution_count": 81
        }
      ]
    },
    {
      "cell_type": "code",
      "metadata": {
        "id": "M616HQdZsg7j",
        "colab_type": "code",
        "outputId": "de7de559-1a6a-4deb-9e54-ae3590686336",
        "colab": {
          "base_uri": "https://localhost:8080/",
          "height": 306
        }
      },
      "source": [
        "print(\"Confusion Matrix:\\n\", metrics.confusion_matrix(y_test, y_test_pred))\n",
        "print(\"Classification report:\\n\", metrics.classification_report(y_test, y_test_pred))\n",
        "print(\"Accuracy:\\t\", metrics.accuracy_score(y_test, y_test_pred))\n",
        "print(\"Precision:\\t\", metrics.precision_score(y_test, y_test_pred))\n",
        "print(\"Recall:   \\t\", metrics.recall_score(y_test, y_test_pred))\n",
        "print(\"ROC AUC score:\\t\", metrics.roc_auc_score(y_test, y_test_pred))"
      ],
      "execution_count": 0,
      "outputs": [
        {
          "output_type": "stream",
          "text": [
            "Confusion Matrix:\n",
            " [[ 552 1664]\n",
            " [  43 2887]]\n",
            "Classification report:\n",
            "               precision    recall  f1-score   support\n",
            "\n",
            "           0       0.93      0.25      0.39      2216\n",
            "           1       0.63      0.99      0.77      2930\n",
            "\n",
            "    accuracy                           0.67      5146\n",
            "   macro avg       0.78      0.62      0.58      5146\n",
            "weighted avg       0.76      0.67      0.61      5146\n",
            "\n",
            "Accuracy:\t 0.6682860474154684\n",
            "Precision:\t 0.6343660733904636\n",
            "Recall:   \t 0.9853242320819112\n",
            "ROC AUC score:\t 0.6172108525030495\n"
          ],
          "name": "stdout"
        }
      ]
    },
    {
      "cell_type": "code",
      "metadata": {
        "id": "kZG82wowXuGN",
        "colab_type": "code",
        "colab": {}
      },
      "source": [
        ""
      ],
      "execution_count": 0,
      "outputs": []
    },
    {
      "cell_type": "code",
      "metadata": {
        "id": "r5bEFMPLSdS0",
        "colab_type": "code",
        "colab": {}
      },
      "source": [
        ""
      ],
      "execution_count": 0,
      "outputs": []
    },
    {
      "cell_type": "code",
      "metadata": {
        "id": "ms3hQv_cSdLf",
        "colab_type": "code",
        "colab": {}
      },
      "source": [
        ""
      ],
      "execution_count": 0,
      "outputs": []
    },
    {
      "cell_type": "markdown",
      "metadata": {
        "colab_type": "text",
        "id": "s0oEupX_VoWr"
      },
      "source": [
        "## TF_IDF Vectorizer"
      ]
    },
    {
      "cell_type": "code",
      "metadata": {
        "colab_type": "code",
        "outputId": "53255582-3406-436d-ce27-10fc4e94ec1b",
        "id": "DdZkdYkgVoWw",
        "colab": {
          "base_uri": "https://localhost:8080/",
          "height": 85
        }
      },
      "source": [
        "X_train, X_test, y_train, y_test = train_test_split(reviews[\"reviewText_1\"], reviews[\"Helpful\"], train_size = 0.7)\n",
        "\n",
        "print(X_train.shape,y_train.shape)\n",
        "print(X_test.shape,y_test.shape)\n",
        "\n",
        "tv=TfidfVectorizer(min_df=0,max_df=1,use_idf=True,ngram_range=(1,3))\n",
        "#transformed train reviews\n",
        "tv_train_reviews=tv.fit_transform(X_train)\n",
        "#transformed test reviews\n",
        "tv_test_reviews=tv.transform(X_test)\n",
        "print('Tfidf_train:',tv_train_reviews.shape)\n",
        "print('Tfidf_test:',tv_test_reviews.shape)"
      ],
      "execution_count": 0,
      "outputs": [
        {
          "output_type": "stream",
          "text": [
            "(12007,) (12007,)\n",
            "(5146,) (5146,)\n",
            "Tfidf_train: (12007, 1072435)\n",
            "Tfidf_test: (5146, 1072435)\n"
          ],
          "name": "stdout"
        }
      ]
    },
    {
      "cell_type": "markdown",
      "metadata": {
        "colab_type": "text",
        "id": "Zga1TVzUVoW1"
      },
      "source": [
        "### Machine Learning Algorithms"
      ]
    },
    {
      "cell_type": "code",
      "metadata": {
        "colab_type": "code",
        "id": "KC2H-uGuVoW1",
        "colab": {}
      },
      "source": [
        "# import ML libraries\n",
        "from sklearn.preprocessing import StandardScaler\n",
        "from sklearn.model_selection import train_test_split\n",
        "from sklearn.model_selection import GridSearchCV\n",
        "from sklearn.linear_model import LogisticRegression\n",
        "from sklearn import metrics\n",
        "from sklearn import svm\n",
        "from matplotlib.colors import ListedColormap\n",
        "from sklearn.ensemble import RandomForestClassifier"
      ],
      "execution_count": 0,
      "outputs": []
    },
    {
      "cell_type": "markdown",
      "metadata": {
        "colab_type": "text",
        "id": "q3bIvW9YVoW4"
      },
      "source": [
        "#### Logistic Regression"
      ]
    },
    {
      "cell_type": "code",
      "metadata": {
        "colab_type": "code",
        "id": "mO_6GXvlVoW5",
        "colab": {}
      },
      "source": [
        "logreg = LogisticRegression()"
      ],
      "execution_count": 0,
      "outputs": []
    },
    {
      "cell_type": "code",
      "metadata": {
        "colab_type": "code",
        "id": "DZ7b2mJ1VoW7",
        "colab": {}
      },
      "source": [
        "logreg.fit(tv_train_reviews, y_train)\n",
        "y_train_pred = logreg.predict(tv_train_reviews)\n",
        "y_test_pred = logreg.predict(tv_test_reviews)"
      ],
      "execution_count": 0,
      "outputs": []
    },
    {
      "cell_type": "code",
      "metadata": {
        "colab_type": "code",
        "outputId": "73463c07-73b0-407b-f49e-9e7df93eb5a1",
        "id": "EnCVG36GVoXA",
        "colab": {
          "base_uri": "https://localhost:8080/",
          "height": 142
        }
      },
      "source": [
        "pd.crosstab(y_train, y_train_pred, rownames=['Actual Result'], colnames=['Predicted Result'])"
      ],
      "execution_count": 0,
      "outputs": [
        {
          "output_type": "execute_result",
          "data": {
            "text/html": [
              "<div>\n",
              "<style scoped>\n",
              "    .dataframe tbody tr th:only-of-type {\n",
              "        vertical-align: middle;\n",
              "    }\n",
              "\n",
              "    .dataframe tbody tr th {\n",
              "        vertical-align: top;\n",
              "    }\n",
              "\n",
              "    .dataframe thead th {\n",
              "        text-align: right;\n",
              "    }\n",
              "</style>\n",
              "<table border=\"1\" class=\"dataframe\">\n",
              "  <thead>\n",
              "    <tr style=\"text-align: right;\">\n",
              "      <th>Predicted Result</th>\n",
              "      <th>0</th>\n",
              "      <th>1</th>\n",
              "    </tr>\n",
              "    <tr>\n",
              "      <th>Actual Result</th>\n",
              "      <th></th>\n",
              "      <th></th>\n",
              "    </tr>\n",
              "  </thead>\n",
              "  <tbody>\n",
              "    <tr>\n",
              "      <th>0</th>\n",
              "      <td>3714</td>\n",
              "      <td>1546</td>\n",
              "    </tr>\n",
              "    <tr>\n",
              "      <th>1</th>\n",
              "      <td>0</td>\n",
              "      <td>6747</td>\n",
              "    </tr>\n",
              "  </tbody>\n",
              "</table>\n",
              "</div>"
            ],
            "text/plain": [
              "Predicted Result     0     1\n",
              "Actual Result               \n",
              "0                 3714  1546\n",
              "1                    0  6747"
            ]
          },
          "metadata": {
            "tags": []
          },
          "execution_count": 87
        }
      ]
    },
    {
      "cell_type": "code",
      "metadata": {
        "colab_type": "code",
        "outputId": "ae600bb1-fa71-4f6b-d636-298e1bc3dc00",
        "id": "htblQKZkVoXC",
        "colab": {
          "base_uri": "https://localhost:8080/",
          "height": 142
        }
      },
      "source": [
        "pd.crosstab(y_test, y_test_pred, rownames=['Actual Result'], colnames=['Predicted Result'])"
      ],
      "execution_count": 0,
      "outputs": [
        {
          "output_type": "execute_result",
          "data": {
            "text/html": [
              "<div>\n",
              "<style scoped>\n",
              "    .dataframe tbody tr th:only-of-type {\n",
              "        vertical-align: middle;\n",
              "    }\n",
              "\n",
              "    .dataframe tbody tr th {\n",
              "        vertical-align: top;\n",
              "    }\n",
              "\n",
              "    .dataframe thead th {\n",
              "        text-align: right;\n",
              "    }\n",
              "</style>\n",
              "<table border=\"1\" class=\"dataframe\">\n",
              "  <thead>\n",
              "    <tr style=\"text-align: right;\">\n",
              "      <th>Predicted Result</th>\n",
              "      <th>0</th>\n",
              "      <th>1</th>\n",
              "    </tr>\n",
              "    <tr>\n",
              "      <th>Actual Result</th>\n",
              "      <th></th>\n",
              "      <th></th>\n",
              "    </tr>\n",
              "  </thead>\n",
              "  <tbody>\n",
              "    <tr>\n",
              "      <th>0</th>\n",
              "      <td>509</td>\n",
              "      <td>1664</td>\n",
              "    </tr>\n",
              "    <tr>\n",
              "      <th>1</th>\n",
              "      <td>0</td>\n",
              "      <td>2973</td>\n",
              "    </tr>\n",
              "  </tbody>\n",
              "</table>\n",
              "</div>"
            ],
            "text/plain": [
              "Predicted Result    0     1\n",
              "Actual Result              \n",
              "0                 509  1664\n",
              "1                   0  2973"
            ]
          },
          "metadata": {
            "tags": []
          },
          "execution_count": 88
        }
      ]
    },
    {
      "cell_type": "code",
      "metadata": {
        "colab_type": "code",
        "outputId": "d5aaaf51-7720-47ad-b174-04a583c774c1",
        "id": "v9siUlszVoXF",
        "colab": {
          "base_uri": "https://localhost:8080/",
          "height": 306
        }
      },
      "source": [
        "print(\"Confusion Matrix:\\n\", metrics.confusion_matrix(y_test, y_test_pred))\n",
        "print(\"Classification report:\\n\", metrics.classification_report(y_test, y_test_pred))\n",
        "print(\"Accuracy:\\t\", metrics.accuracy_score(y_test, y_test_pred))\n",
        "print(\"Precision:\\t\", metrics.precision_score(y_test, y_test_pred))\n",
        "print(\"Recall:   \\t\", metrics.recall_score(y_test, y_test_pred))\n",
        "print(\"ROC AUC score:\\t\", metrics.roc_auc_score(y_test, y_test_pred))"
      ],
      "execution_count": 0,
      "outputs": [
        {
          "output_type": "stream",
          "text": [
            "Confusion Matrix:\n",
            " [[ 509 1664]\n",
            " [   0 2973]]\n",
            "Classification report:\n",
            "               precision    recall  f1-score   support\n",
            "\n",
            "           0       1.00      0.23      0.38      2173\n",
            "           1       0.64      1.00      0.78      2973\n",
            "\n",
            "    accuracy                           0.68      5146\n",
            "   macro avg       0.82      0.62      0.58      5146\n",
            "weighted avg       0.79      0.68      0.61      5146\n",
            "\n",
            "Accuracy:\t 0.6766420520792849\n",
            "Precision:\t 0.6411472935087341\n",
            "Recall:   \t 1.0\n",
            "ROC AUC score:\t 0.6171191900598252\n"
          ],
          "name": "stdout"
        }
      ]
    },
    {
      "cell_type": "code",
      "metadata": {
        "colab_type": "code",
        "outputId": "1841e0d5-13c8-4727-a438-dfe78da357d5",
        "id": "5MFEQc4KVoXH",
        "colab": {
          "base_uri": "https://localhost:8080/",
          "height": 306
        }
      },
      "source": [
        "print(\"Confusion Matrix:\\n\", metrics.confusion_matrix(y_train, y_train_pred))\n",
        "print(\"Classification report:\\n\", metrics.classification_report(y_train, y_train_pred))\n",
        "print(\"Accuracy:\\t\", metrics.accuracy_score(y_train, y_train_pred))\n",
        "print(\"Precision:\\t\", metrics.precision_score(y_train, y_train_pred))\n",
        "print(\"Recall:   \\t\", metrics.recall_score(y_train, y_train_pred))\n",
        "print(\"ROC AUC score:\\t\", metrics.roc_auc_score(y_train, y_train_pred))"
      ],
      "execution_count": 0,
      "outputs": [
        {
          "output_type": "stream",
          "text": [
            "Confusion Matrix:\n",
            " [[3714 1546]\n",
            " [   0 6747]]\n",
            "Classification report:\n",
            "               precision    recall  f1-score   support\n",
            "\n",
            "           0       1.00      0.71      0.83      5260\n",
            "           1       0.81      1.00      0.90      6747\n",
            "\n",
            "    accuracy                           0.87     12007\n",
            "   macro avg       0.91      0.85      0.86     12007\n",
            "weighted avg       0.90      0.87      0.87     12007\n",
            "\n",
            "Accuracy:\t 0.871241775630882\n",
            "Precision:\t 0.8135777161461474\n",
            "Recall:   \t 1.0\n",
            "ROC AUC score:\t 0.853041825095057\n"
          ],
          "name": "stdout"
        }
      ]
    },
    {
      "cell_type": "markdown",
      "metadata": {
        "colab_type": "text",
        "id": "AEJAXeE1VoXJ"
      },
      "source": [
        "#### Logistic Regression - CV"
      ]
    },
    {
      "cell_type": "code",
      "metadata": {
        "colab_type": "code",
        "outputId": "29725587-0b10-44cc-ad01-a8f257301c07",
        "id": "L7QHncIUVoXK",
        "colab": {
          "base_uri": "https://localhost:8080/",
          "height": 51
        }
      },
      "source": [
        "penalty = ['l2']\n",
        "C = np.logspace(-4, 4, 10)\n",
        "hyperparameters = dict(C=C, penalty=penalty)\n",
        "\n",
        "logreg_gridsearchCV = GridSearchCV(LogisticRegression(solver = 'lbfgs'), hyperparameters, cv=5, verbose=0)\n",
        "\n",
        "logreg_gridsearchCV.fit(tv_train_reviews, y_train)\n",
        "\n",
        "print('Best Penalty:', logreg_gridsearchCV.best_estimator_.get_params()['penalty'])\n",
        "print('Best C:', logreg_gridsearchCV.best_estimator_.get_params()['C'])"
      ],
      "execution_count": 0,
      "outputs": [
        {
          "output_type": "stream",
          "text": [
            "Best Penalty: l2\n",
            "Best C: 0.0001\n"
          ],
          "name": "stdout"
        }
      ]
    },
    {
      "cell_type": "code",
      "metadata": {
        "colab_type": "code",
        "outputId": "676d5865-3c43-4333-8fe8-454ad2c1c9ba",
        "id": "dm69uPI9VoXM",
        "colab": {
          "base_uri": "https://localhost:8080/",
          "height": 142
        }
      },
      "source": [
        "y_test_pred = logreg_gridsearchCV.predict(tv_test_reviews)\n",
        "pd.crosstab(y_test, y_test_pred, rownames=['Actual Result'], colnames=['Predicted Result'])"
      ],
      "execution_count": 0,
      "outputs": [
        {
          "output_type": "execute_result",
          "data": {
            "text/html": [
              "<div>\n",
              "<style scoped>\n",
              "    .dataframe tbody tr th:only-of-type {\n",
              "        vertical-align: middle;\n",
              "    }\n",
              "\n",
              "    .dataframe tbody tr th {\n",
              "        vertical-align: top;\n",
              "    }\n",
              "\n",
              "    .dataframe thead th {\n",
              "        text-align: right;\n",
              "    }\n",
              "</style>\n",
              "<table border=\"1\" class=\"dataframe\">\n",
              "  <thead>\n",
              "    <tr style=\"text-align: right;\">\n",
              "      <th>Predicted Result</th>\n",
              "      <th>1</th>\n",
              "    </tr>\n",
              "    <tr>\n",
              "      <th>Actual Result</th>\n",
              "      <th></th>\n",
              "    </tr>\n",
              "  </thead>\n",
              "  <tbody>\n",
              "    <tr>\n",
              "      <th>0</th>\n",
              "      <td>2173</td>\n",
              "    </tr>\n",
              "    <tr>\n",
              "      <th>1</th>\n",
              "      <td>2973</td>\n",
              "    </tr>\n",
              "  </tbody>\n",
              "</table>\n",
              "</div>"
            ],
            "text/plain": [
              "Predicted Result     1\n",
              "Actual Result         \n",
              "0                 2173\n",
              "1                 2973"
            ]
          },
          "metadata": {
            "tags": []
          },
          "execution_count": 93
        }
      ]
    },
    {
      "cell_type": "code",
      "metadata": {
        "colab_type": "code",
        "outputId": "3199a6e3-e2ab-468a-d23a-38454e0dc7f4",
        "id": "zthCRqiYVoXP",
        "colab": {
          "base_uri": "https://localhost:8080/",
          "height": 306
        }
      },
      "source": [
        "print(\"Confusion Matrix:\\n\", metrics.confusion_matrix(y_test, y_test_pred))\n",
        "print(\"Classification report:\\n\", metrics.classification_report(y_test, y_test_pred))\n",
        "print(\"Accuracy:\\t\", metrics.accuracy_score(y_test, y_test_pred))\n",
        "print(\"Precision:\\t\", metrics.precision_score(y_test, y_test_pred))\n",
        "print(\"Recall:   \\t\", metrics.recall_score(y_test, y_test_pred))\n",
        "print(\"ROC AUC score:\\t\", metrics.roc_auc_score(y_test, y_test_pred))"
      ],
      "execution_count": 0,
      "outputs": [
        {
          "output_type": "stream",
          "text": [
            "Confusion Matrix:\n",
            " [[   0 2173]\n",
            " [   0 2973]]\n",
            "Classification report:\n",
            "               precision    recall  f1-score   support\n",
            "\n",
            "           0       0.00      0.00      0.00      2173\n",
            "           1       0.58      1.00      0.73      2973\n",
            "\n",
            "    accuracy                           0.58      5146\n",
            "   macro avg       0.29      0.50      0.37      5146\n",
            "weighted avg       0.33      0.58      0.42      5146\n",
            "\n",
            "Accuracy:\t 0.5777302759424796\n",
            "Precision:\t 0.5777302759424796\n",
            "Recall:   \t 1.0\n",
            "ROC AUC score:\t 0.5\n"
          ],
          "name": "stdout"
        }
      ]
    },
    {
      "cell_type": "code",
      "metadata": {
        "colab_type": "code",
        "id": "9X5nlXPLVoXS",
        "colab": {}
      },
      "source": [
        ""
      ],
      "execution_count": 0,
      "outputs": []
    },
    {
      "cell_type": "markdown",
      "metadata": {
        "colab_type": "text",
        "id": "8x-1pgnbVoXU"
      },
      "source": [
        "#### Support Vector Machine"
      ]
    },
    {
      "cell_type": "markdown",
      "metadata": {
        "colab_type": "text",
        "id": "VylgneISVoXU"
      },
      "source": [
        "Linear Kernel"
      ]
    },
    {
      "cell_type": "code",
      "metadata": {
        "colab_type": "code",
        "id": "w2basU4HVoXV",
        "colab": {}
      },
      "source": [
        "svm_lin = svm.SVC(kernel = \"linear\")"
      ],
      "execution_count": 0,
      "outputs": []
    },
    {
      "cell_type": "code",
      "metadata": {
        "colab_type": "code",
        "id": "EZW4SkCAVoXX",
        "colab": {}
      },
      "source": [
        "svm_lin.fit(tv_train_reviews, y_train)\n",
        "y_test_pred = svm_lin.predict(tv_test_reviews)"
      ],
      "execution_count": 0,
      "outputs": []
    },
    {
      "cell_type": "code",
      "metadata": {
        "colab_type": "code",
        "outputId": "1f3923e7-f688-4d6c-d92d-22e820c9d965",
        "id": "Gg34lBC1VoXZ",
        "colab": {
          "base_uri": "https://localhost:8080/",
          "height": 142
        }
      },
      "source": [
        "pd.crosstab(y_test, y_test_pred, rownames=['Actual Result'], colnames=['Predicted Result'])"
      ],
      "execution_count": 0,
      "outputs": [
        {
          "output_type": "execute_result",
          "data": {
            "text/html": [
              "<div>\n",
              "<style scoped>\n",
              "    .dataframe tbody tr th:only-of-type {\n",
              "        vertical-align: middle;\n",
              "    }\n",
              "\n",
              "    .dataframe tbody tr th {\n",
              "        vertical-align: top;\n",
              "    }\n",
              "\n",
              "    .dataframe thead th {\n",
              "        text-align: right;\n",
              "    }\n",
              "</style>\n",
              "<table border=\"1\" class=\"dataframe\">\n",
              "  <thead>\n",
              "    <tr style=\"text-align: right;\">\n",
              "      <th>Predicted Result</th>\n",
              "      <th>0</th>\n",
              "      <th>1</th>\n",
              "    </tr>\n",
              "    <tr>\n",
              "      <th>Actual Result</th>\n",
              "      <th></th>\n",
              "      <th></th>\n",
              "    </tr>\n",
              "  </thead>\n",
              "  <tbody>\n",
              "    <tr>\n",
              "      <th>0</th>\n",
              "      <td>517</td>\n",
              "      <td>1656</td>\n",
              "    </tr>\n",
              "    <tr>\n",
              "      <th>1</th>\n",
              "      <td>5</td>\n",
              "      <td>2968</td>\n",
              "    </tr>\n",
              "  </tbody>\n",
              "</table>\n",
              "</div>"
            ],
            "text/plain": [
              "Predicted Result    0     1\n",
              "Actual Result              \n",
              "0                 517  1656\n",
              "1                   5  2968"
            ]
          },
          "metadata": {
            "tags": []
          },
          "execution_count": 97
        }
      ]
    },
    {
      "cell_type": "code",
      "metadata": {
        "colab_type": "code",
        "outputId": "90dc188f-ecfa-4b2b-ed3a-b9e4396effa7",
        "id": "tNUKgq7aVoXb",
        "colab": {
          "base_uri": "https://localhost:8080/",
          "height": 306
        }
      },
      "source": [
        "print(\"Confusion Matrix:\\n\", metrics.confusion_matrix(y_test, y_test_pred))\n",
        "print(\"Classification report:\\n\", metrics.classification_report(y_test, y_test_pred))\n",
        "print(\"Accuracy:\\t\", metrics.accuracy_score(y_test, y_test_pred))\n",
        "print(\"Precision:\\t\", metrics.precision_score(y_test, y_test_pred))\n",
        "print(\"Recall:   \\t\", metrics.recall_score(y_test, y_test_pred))\n",
        "print(\"ROC AUC score:\\t\", metrics.roc_auc_score(y_test, y_test_pred))"
      ],
      "execution_count": 0,
      "outputs": [
        {
          "output_type": "stream",
          "text": [
            "Confusion Matrix:\n",
            " [[ 517 1656]\n",
            " [   5 2968]]\n",
            "Classification report:\n",
            "               precision    recall  f1-score   support\n",
            "\n",
            "           0       0.99      0.24      0.38      2173\n",
            "           1       0.64      1.00      0.78      2973\n",
            "\n",
            "    accuracy                           0.68      5146\n",
            "   macro avg       0.82      0.62      0.58      5146\n",
            "weighted avg       0.79      0.68      0.61      5146\n",
            "\n",
            "Accuracy:\t 0.6772250291488535\n",
            "Precision:\t 0.6418685121107266\n",
            "Recall:   \t 0.9983181971072991\n",
            "ROC AUC score:\t 0.6181190617381871\n"
          ],
          "name": "stdout"
        }
      ]
    },
    {
      "cell_type": "code",
      "metadata": {
        "colab_type": "code",
        "id": "ikZpqMj1VoXe",
        "colab": {}
      },
      "source": [
        ""
      ],
      "execution_count": 0,
      "outputs": []
    },
    {
      "cell_type": "markdown",
      "metadata": {
        "colab_type": "text",
        "id": "u6pVsieMVoXh"
      },
      "source": [
        "#### Random Forest Classification"
      ]
    },
    {
      "cell_type": "code",
      "metadata": {
        "colab_type": "code",
        "id": "zs8FOs_rVoXh",
        "colab": {}
      },
      "source": [
        "rf = RandomForestClassifier(n_estimators = 100, random_state = 42)"
      ],
      "execution_count": 0,
      "outputs": []
    },
    {
      "cell_type": "code",
      "metadata": {
        "colab_type": "code",
        "outputId": "493c6c51-dbc7-41a1-88c8-98070359146d",
        "id": "uchoKt1WVoXj",
        "colab": {
          "base_uri": "https://localhost:8080/",
          "height": 34
        }
      },
      "source": [
        "rf.fit(tv_train_reviews, y_train)\n",
        "y_test_pred = rf.predict(tv_test_reviews)\n",
        "rf.score(tv_test_reviews, y_test)"
      ],
      "execution_count": 0,
      "outputs": [
        {
          "output_type": "execute_result",
          "data": {
            "text/plain": [
              "0.6791682860474154"
            ]
          },
          "metadata": {
            "tags": []
          },
          "execution_count": 100
        }
      ]
    },
    {
      "cell_type": "code",
      "metadata": {
        "colab_type": "code",
        "outputId": "682234b1-9eb0-4b7d-bc8d-06da30d1d86e",
        "id": "mwEJJAQqVoXn",
        "colab": {
          "base_uri": "https://localhost:8080/",
          "height": 142
        }
      },
      "source": [
        "pd.crosstab(y_test, y_test_pred, rownames=['Actual Result'], colnames=['Predicted Result'])"
      ],
      "execution_count": 0,
      "outputs": [
        {
          "output_type": "execute_result",
          "data": {
            "text/html": [
              "<div>\n",
              "<style scoped>\n",
              "    .dataframe tbody tr th:only-of-type {\n",
              "        vertical-align: middle;\n",
              "    }\n",
              "\n",
              "    .dataframe tbody tr th {\n",
              "        vertical-align: top;\n",
              "    }\n",
              "\n",
              "    .dataframe thead th {\n",
              "        text-align: right;\n",
              "    }\n",
              "</style>\n",
              "<table border=\"1\" class=\"dataframe\">\n",
              "  <thead>\n",
              "    <tr style=\"text-align: right;\">\n",
              "      <th>Predicted Result</th>\n",
              "      <th>0</th>\n",
              "      <th>1</th>\n",
              "    </tr>\n",
              "    <tr>\n",
              "      <th>Actual Result</th>\n",
              "      <th></th>\n",
              "      <th></th>\n",
              "    </tr>\n",
              "  </thead>\n",
              "  <tbody>\n",
              "    <tr>\n",
              "      <th>0</th>\n",
              "      <td>537</td>\n",
              "      <td>1636</td>\n",
              "    </tr>\n",
              "    <tr>\n",
              "      <th>1</th>\n",
              "      <td>15</td>\n",
              "      <td>2958</td>\n",
              "    </tr>\n",
              "  </tbody>\n",
              "</table>\n",
              "</div>"
            ],
            "text/plain": [
              "Predicted Result    0     1\n",
              "Actual Result              \n",
              "0                 537  1636\n",
              "1                  15  2958"
            ]
          },
          "metadata": {
            "tags": []
          },
          "execution_count": 101
        }
      ]
    },
    {
      "cell_type": "code",
      "metadata": {
        "colab_type": "code",
        "outputId": "0d815cf6-07c4-4850-a3f5-850c2967526d",
        "id": "2AMpuur6VoXp",
        "colab": {
          "base_uri": "https://localhost:8080/",
          "height": 306
        }
      },
      "source": [
        "print(\"Confusion Matrix:\\n\", metrics.confusion_matrix(y_test, y_test_pred))\n",
        "print(\"Classification report:\\n\", metrics.classification_report(y_test, y_test_pred))\n",
        "print(\"Accuracy:\\t\", metrics.accuracy_score(y_test, y_test_pred))\n",
        "print(\"Precision:\\t\", metrics.precision_score(y_test, y_test_pred))\n",
        "print(\"Recall:   \\t\", metrics.recall_score(y_test, y_test_pred))\n",
        "print(\"ROC AUC score:\\t\", metrics.roc_auc_score(y_test, y_test_pred))"
      ],
      "execution_count": 0,
      "outputs": [
        {
          "output_type": "stream",
          "text": [
            "Confusion Matrix:\n",
            " [[ 537 1636]\n",
            " [  15 2958]]\n",
            "Classification report:\n",
            "               precision    recall  f1-score   support\n",
            "\n",
            "           0       0.97      0.25      0.39      2173\n",
            "           1       0.64      0.99      0.78      2973\n",
            "\n",
            "    accuracy                           0.68      5146\n",
            "   macro avg       0.81      0.62      0.59      5146\n",
            "weighted avg       0.78      0.68      0.62      5146\n",
            "\n",
            "Accuracy:\t 0.6791682860474154\n",
            "Precision:\t 0.6438833260774924\n",
            "Recall:   \t 0.9949545913218971\n",
            "ROC AUC score:\t 0.6210391916572671\n"
          ],
          "name": "stdout"
        }
      ]
    },
    {
      "cell_type": "code",
      "metadata": {
        "colab_type": "code",
        "id": "4gDBUxDvVoXt",
        "colab": {}
      },
      "source": [
        ""
      ],
      "execution_count": 0,
      "outputs": []
    },
    {
      "cell_type": "code",
      "metadata": {
        "colab_type": "code",
        "id": "ni9RWhn5VoXw",
        "colab": {}
      },
      "source": [
        ""
      ],
      "execution_count": 0,
      "outputs": []
    },
    {
      "cell_type": "code",
      "metadata": {
        "colab_type": "code",
        "id": "gQgGHGv0VoX0",
        "colab": {}
      },
      "source": [
        ""
      ],
      "execution_count": 0,
      "outputs": []
    },
    {
      "cell_type": "code",
      "metadata": {
        "id": "LKTjFPU5g7W4",
        "colab_type": "code",
        "colab": {}
      },
      "source": [
        ""
      ],
      "execution_count": 0,
      "outputs": []
    },
    {
      "cell_type": "markdown",
      "metadata": {
        "id": "xFTzMsViaLz4",
        "colab_type": "text"
      },
      "source": [
        "# Customer Satisfaction"
      ]
    },
    {
      "cell_type": "code",
      "metadata": {
        "colab_type": "code",
        "id": "_CzNrAKdaJ-x",
        "colab": {}
      },
      "source": [
        "reviews_csat = review.sample(frac=0.08, replace=True, random_state=1)"
      ],
      "execution_count": 0,
      "outputs": []
    },
    {
      "cell_type": "code",
      "metadata": {
        "colab_type": "code",
        "id": "THdJKKZkaJ-0",
        "outputId": "d5be5edb-4f02-4bea-ed13-c25976dd37e4",
        "colab": {
          "base_uri": "https://localhost:8080/",
          "height": 272
        }
      },
      "source": [
        "reviews_csat.head(5)"
      ],
      "execution_count": 40,
      "outputs": [
        {
          "output_type": "execute_result",
          "data": {
            "text/html": [
              "<div>\n",
              "<style scoped>\n",
              "    .dataframe tbody tr th:only-of-type {\n",
              "        vertical-align: middle;\n",
              "    }\n",
              "\n",
              "    .dataframe tbody tr th {\n",
              "        vertical-align: top;\n",
              "    }\n",
              "\n",
              "    .dataframe thead th {\n",
              "        text-align: right;\n",
              "    }\n",
              "</style>\n",
              "<table border=\"1\" class=\"dataframe\">\n",
              "  <thead>\n",
              "    <tr style=\"text-align: right;\">\n",
              "      <th></th>\n",
              "      <th>index</th>\n",
              "      <th>reviewerID</th>\n",
              "      <th>asin</th>\n",
              "      <th>reviewerName</th>\n",
              "      <th>helpful</th>\n",
              "      <th>reviewText</th>\n",
              "      <th>overall</th>\n",
              "      <th>summary</th>\n",
              "      <th>unixReviewTime</th>\n",
              "      <th>reviewTime</th>\n",
              "    </tr>\n",
              "  </thead>\n",
              "  <tbody>\n",
              "    <tr>\n",
              "      <th>128037</th>\n",
              "      <td>128037</td>\n",
              "      <td>A36CCLPMU6YDYL</td>\n",
              "      <td>B001EPQ9IM</td>\n",
              "      <td>E. Heppert \"Beth\"</td>\n",
              "      <td>[0, 0]</td>\n",
              "      <td>My husband was having trouble with his stinky ...</td>\n",
              "      <td>5.0</td>\n",
              "      <td>They work!</td>\n",
              "      <td>1357084800</td>\n",
              "      <td>01 2, 2013</td>\n",
              "    </tr>\n",
              "    <tr>\n",
              "      <th>267336</th>\n",
              "      <td>267336</td>\n",
              "      <td>A3M4GPZ5MMSSWU</td>\n",
              "      <td>B006T6XCP4</td>\n",
              "      <td>plazaliz</td>\n",
              "      <td>[0, 0]</td>\n",
              "      <td>Great fragrance. Diminished facial scar signif...</td>\n",
              "      <td>5.0</td>\n",
              "      <td>Wonderfully Versatile Oil</td>\n",
              "      <td>1373068800</td>\n",
              "      <td>07 6, 2013</td>\n",
              "    </tr>\n",
              "    <tr>\n",
              "      <th>312201</th>\n",
              "      <td>312201</td>\n",
              "      <td>A3B0V4HRHE3ITR</td>\n",
              "      <td>B00BPBLMCS</td>\n",
              "      <td>W. Burton</td>\n",
              "      <td>[10, 12]</td>\n",
              "      <td>This Do-It-Yourself shave set is brilliant. Th...</td>\n",
              "      <td>5.0</td>\n",
              "      <td>Great Surprise</td>\n",
              "      <td>1369699200</td>\n",
              "      <td>05 28, 2013</td>\n",
              "    </tr>\n",
              "    <tr>\n",
              "      <th>73349</th>\n",
              "      <td>73349</td>\n",
              "      <td>A1XIRB17MOLXPB</td>\n",
              "      <td>B000O58QM0</td>\n",
              "      <td>Judith Treidler</td>\n",
              "      <td>[0, 0]</td>\n",
              "      <td>Would purchase again if necessary. Very good i...</td>\n",
              "      <td>5.0</td>\n",
              "      <td>Works as advertised</td>\n",
              "      <td>1360713600</td>\n",
              "      <td>02 13, 2013</td>\n",
              "    </tr>\n",
              "    <tr>\n",
              "      <th>117583</th>\n",
              "      <td>117583</td>\n",
              "      <td>A1XQ0F01CF84Y3</td>\n",
              "      <td>B001AFDAU6</td>\n",
              "      <td>Caligal</td>\n",
              "      <td>[0, 0]</td>\n",
              "      <td>Very good support while driving or in office c...</td>\n",
              "      <td>5.0</td>\n",
              "      <td>Great</td>\n",
              "      <td>1361750400</td>\n",
              "      <td>02 25, 2013</td>\n",
              "    </tr>\n",
              "  </tbody>\n",
              "</table>\n",
              "</div>"
            ],
            "text/plain": [
              "         index      reviewerID  ... unixReviewTime   reviewTime\n",
              "128037  128037  A36CCLPMU6YDYL  ...     1357084800   01 2, 2013\n",
              "267336  267336  A3M4GPZ5MMSSWU  ...     1373068800   07 6, 2013\n",
              "312201  312201  A3B0V4HRHE3ITR  ...     1369699200  05 28, 2013\n",
              "73349    73349  A1XIRB17MOLXPB  ...     1360713600  02 13, 2013\n",
              "117583  117583  A1XQ0F01CF84Y3  ...     1361750400  02 25, 2013\n",
              "\n",
              "[5 rows x 10 columns]"
            ]
          },
          "metadata": {
            "tags": []
          },
          "execution_count": 40
        }
      ]
    },
    {
      "cell_type": "code",
      "metadata": {
        "scrolled": true,
        "colab_type": "code",
        "id": "h6JaUQG2aJ-2",
        "outputId": "d179cc36-c979-4393-f13c-8f2bb42d4784",
        "colab": {
          "base_uri": "https://localhost:8080/",
          "height": 235
        }
      },
      "source": [
        "reviews_csat.groupby([\"overall\"]).count()"
      ],
      "execution_count": 41,
      "outputs": [
        {
          "output_type": "execute_result",
          "data": {
            "text/html": [
              "<div>\n",
              "<style scoped>\n",
              "    .dataframe tbody tr th:only-of-type {\n",
              "        vertical-align: middle;\n",
              "    }\n",
              "\n",
              "    .dataframe tbody tr th {\n",
              "        vertical-align: top;\n",
              "    }\n",
              "\n",
              "    .dataframe thead th {\n",
              "        text-align: right;\n",
              "    }\n",
              "</style>\n",
              "<table border=\"1\" class=\"dataframe\">\n",
              "  <thead>\n",
              "    <tr style=\"text-align: right;\">\n",
              "      <th></th>\n",
              "      <th>index</th>\n",
              "      <th>reviewerID</th>\n",
              "      <th>asin</th>\n",
              "      <th>reviewerName</th>\n",
              "      <th>helpful</th>\n",
              "      <th>reviewText</th>\n",
              "      <th>summary</th>\n",
              "      <th>unixReviewTime</th>\n",
              "      <th>reviewTime</th>\n",
              "    </tr>\n",
              "    <tr>\n",
              "      <th>overall</th>\n",
              "      <th></th>\n",
              "      <th></th>\n",
              "      <th></th>\n",
              "      <th></th>\n",
              "      <th></th>\n",
              "      <th></th>\n",
              "      <th></th>\n",
              "      <th></th>\n",
              "      <th></th>\n",
              "    </tr>\n",
              "  </thead>\n",
              "  <tbody>\n",
              "    <tr>\n",
              "      <th>1.0</th>\n",
              "      <td>1666</td>\n",
              "      <td>1666</td>\n",
              "      <td>1666</td>\n",
              "      <td>1648</td>\n",
              "      <td>1666</td>\n",
              "      <td>1666</td>\n",
              "      <td>1666</td>\n",
              "      <td>1666</td>\n",
              "      <td>1666</td>\n",
              "    </tr>\n",
              "    <tr>\n",
              "      <th>2.0</th>\n",
              "      <td>1634</td>\n",
              "      <td>1634</td>\n",
              "      <td>1634</td>\n",
              "      <td>1621</td>\n",
              "      <td>1634</td>\n",
              "      <td>1634</td>\n",
              "      <td>1634</td>\n",
              "      <td>1634</td>\n",
              "      <td>1634</td>\n",
              "    </tr>\n",
              "    <tr>\n",
              "      <th>3.0</th>\n",
              "      <td>3359</td>\n",
              "      <td>3359</td>\n",
              "      <td>3359</td>\n",
              "      <td>3334</td>\n",
              "      <td>3359</td>\n",
              "      <td>3359</td>\n",
              "      <td>3359</td>\n",
              "      <td>3359</td>\n",
              "      <td>3359</td>\n",
              "    </tr>\n",
              "    <tr>\n",
              "      <th>4.0</th>\n",
              "      <td>6830</td>\n",
              "      <td>6830</td>\n",
              "      <td>6830</td>\n",
              "      <td>6788</td>\n",
              "      <td>6830</td>\n",
              "      <td>6830</td>\n",
              "      <td>6830</td>\n",
              "      <td>6830</td>\n",
              "      <td>6830</td>\n",
              "    </tr>\n",
              "    <tr>\n",
              "      <th>5.0</th>\n",
              "      <td>21147</td>\n",
              "      <td>21147</td>\n",
              "      <td>21147</td>\n",
              "      <td>20956</td>\n",
              "      <td>21147</td>\n",
              "      <td>21147</td>\n",
              "      <td>21147</td>\n",
              "      <td>21147</td>\n",
              "      <td>21147</td>\n",
              "    </tr>\n",
              "  </tbody>\n",
              "</table>\n",
              "</div>"
            ],
            "text/plain": [
              "         index  reviewerID   asin  ...  summary  unixReviewTime  reviewTime\n",
              "overall                            ...                                     \n",
              "1.0       1666        1666   1666  ...     1666            1666        1666\n",
              "2.0       1634        1634   1634  ...     1634            1634        1634\n",
              "3.0       3359        3359   3359  ...     3359            3359        3359\n",
              "4.0       6830        6830   6830  ...     6830            6830        6830\n",
              "5.0      21147       21147  21147  ...    21147           21147       21147\n",
              "\n",
              "[5 rows x 9 columns]"
            ]
          },
          "metadata": {
            "tags": []
          },
          "execution_count": 41
        }
      ]
    },
    {
      "cell_type": "code",
      "metadata": {
        "colab_type": "code",
        "id": "WKEYTfkKaJ-6",
        "colab": {}
      },
      "source": [
        "# data cleaning"
      ],
      "execution_count": 0,
      "outputs": []
    },
    {
      "cell_type": "code",
      "metadata": {
        "colab_type": "code",
        "id": "Xup7nctvaJ_A",
        "colab": {}
      },
      "source": [
        "reviews_csat[\"reviewText_1\"] = reviews_csat[\"reviewText\"].apply(data_cleaning)"
      ],
      "execution_count": 0,
      "outputs": []
    },
    {
      "cell_type": "code",
      "metadata": {
        "colab_type": "code",
        "id": "o33jNj6naJ_D",
        "colab": {}
      },
      "source": [
        "reviews_csat[\"reviewText_1\"] = reviews_csat[\"reviewText_1\"].apply(simple_stemmer)"
      ],
      "execution_count": 0,
      "outputs": []
    },
    {
      "cell_type": "code",
      "metadata": {
        "colab_type": "code",
        "id": "PMNviFTlaJ_J",
        "colab": {}
      },
      "source": [
        "reviews_csat.loc[:, 'csat'] = np.where(reviews_csat.loc[:, 'overall'] <= 4, 1, 0)"
      ],
      "execution_count": 0,
      "outputs": []
    },
    {
      "cell_type": "code",
      "metadata": {
        "colab_type": "code",
        "id": "ajdxXsYiaJ_O",
        "colab": {}
      },
      "source": [
        "reviews_csat.head(20)"
      ],
      "execution_count": 0,
      "outputs": []
    },
    {
      "cell_type": "code",
      "metadata": {
        "colab_type": "code",
        "outputId": "e507af9e-38a4-4e11-cb58-0e4a215121ce",
        "id": "hqNxX0kjaJ_S",
        "colab": {
          "base_uri": "https://localhost:8080/",
          "height": 68
        }
      },
      "source": [
        "reviews_csat[\"csat\"].value_counts()"
      ],
      "execution_count": 46,
      "outputs": [
        {
          "output_type": "execute_result",
          "data": {
            "text/plain": [
              "0    21147\n",
              "1    13489\n",
              "Name: csat, dtype: int64"
            ]
          },
          "metadata": {
            "tags": []
          },
          "execution_count": 46
        }
      ]
    },
    {
      "cell_type": "code",
      "metadata": {
        "id": "wdsP8wO0dsEy",
        "colab_type": "code",
        "colab": {
          "base_uri": "https://localhost:8080/",
          "height": 331
        },
        "outputId": "38274459-28d6-449b-bbda-74ed7dc433f5"
      },
      "source": [
        "wc2 = review.loc[review[\"csat\"]==1]\n",
        "# word cloud\n",
        "plt.rcParams['figure.figsize'] = (5, 50)\n",
        "wordcloud = WordCloud(background_color = 'white', width = 1200,  height = 1200, max_words = 121).generate(str(wc2[\"reviewText\"]))\n",
        "plt.imshow(wordcloud)\n",
        "plt.axis('off')\n",
        "plt.title('Most Frequent Words',fontsize = 20)\n",
        "plt.show()\n"
      ],
      "execution_count": 61,
      "outputs": [
        {
          "output_type": "display_data",
          "data": {
            "image/png": "[encoded data removed]",
            "text/plain": [
              "<Figure size 360x3600 with 1 Axes>"
            ]
          },
          "metadata": {
            "tags": [],
            "needs_background": "light"
          }
        }
      ]
    },
    {
      "cell_type": "markdown",
      "metadata": {
        "colab_type": "text",
        "id": "PJZMVs7FZmzW"
      },
      "source": [
        "## Count Vectorizer"
      ]
    },
    {
      "cell_type": "code",
      "metadata": {
        "colab_type": "code",
        "outputId": "f41829f6-d7d9-4e94-be2e-d2a27b292efe",
        "id": "a3zLiT6RZmzY",
        "colab": {
          "base_uri": "https://localhost:8080/",
          "height": 85
        }
      },
      "source": [
        "X_train, X_test, y_train, y_test = train_test_split(reviews_csat[\"reviewText_1\"], reviews_csat[\"csat\"], train_size = 0.7)\n",
        "\n",
        "print(X_train.shape,y_train.shape)\n",
        "print(X_test.shape,y_test.shape)\n",
        "\n",
        "cv=CountVectorizer(min_df=0,max_df=1,binary=False,ngram_range=(1,3))\n",
        "#transformed train reviews\n",
        "cv_train_reviews=cv.fit_transform(X_train)\n",
        "#transformed test reviews\n",
        "cv_test_reviews=cv.transform(X_test)\n",
        "\n",
        "print('BOW_cv_train:',cv_train_reviews.shape)\n",
        "print('BOW_cv_test:',cv_test_reviews.shape)\n",
        "\n"
      ],
      "execution_count": 66,
      "outputs": [
        {
          "output_type": "stream",
          "text": [
            "(19395,) (19395,)\n",
            "(8313,) (8313,)\n",
            "BOW_cv_train: (19395, 1185785)\n",
            "BOW_cv_test: (8313, 1185785)\n"
          ],
          "name": "stdout"
        }
      ]
    },
    {
      "cell_type": "markdown",
      "metadata": {
        "colab_type": "text",
        "id": "jg34KCx6Zmzc"
      },
      "source": [
        "### Machine Learning Algorithms"
      ]
    },
    {
      "cell_type": "code",
      "metadata": {
        "colab_type": "code",
        "id": "syRcUaD6Zmzc",
        "colab": {}
      },
      "source": [
        "# import ML libraries\n",
        "from sklearn.preprocessing import StandardScaler\n",
        "from sklearn.model_selection import train_test_split\n",
        "from sklearn.model_selection import GridSearchCV\n",
        "from sklearn.linear_model import LogisticRegression\n",
        "from sklearn import metrics\n",
        "from sklearn import svm\n",
        "from matplotlib.colors import ListedColormap\n",
        "from sklearn.ensemble import RandomForestClassifier"
      ],
      "execution_count": 0,
      "outputs": []
    },
    {
      "cell_type": "markdown",
      "metadata": {
        "colab_type": "text",
        "id": "pyFb0IlLZmzf"
      },
      "source": [
        "#### Logistic Regression"
      ]
    },
    {
      "cell_type": "code",
      "metadata": {
        "colab_type": "code",
        "id": "4ncFqEIhZmzg",
        "colab": {}
      },
      "source": [
        "logreg = LogisticRegression()"
      ],
      "execution_count": 0,
      "outputs": []
    },
    {
      "cell_type": "code",
      "metadata": {
        "colab_type": "code",
        "id": "xiHT2m-bZmzj",
        "colab": {}
      },
      "source": [
        "logreg.fit(cv_train_reviews, y_train)\n",
        "y_train_pred = logreg.predict(cv_train_reviews)\n",
        "y_test_pred = logreg.predict(cv_test_reviews)"
      ],
      "execution_count": 0,
      "outputs": []
    },
    {
      "cell_type": "code",
      "metadata": {
        "colab_type": "code",
        "outputId": "07b1a882-af47-4bb0-f746-a73956fb1a4a",
        "id": "tAvXVboXZmzo",
        "colab": {
          "base_uri": "https://localhost:8080/",
          "height": 142
        }
      },
      "source": [
        "pd.crosstab(y_test, y_test_pred, rownames=['Actual Result'], colnames=['Predicted Result'])"
      ],
      "execution_count": 69,
      "outputs": [
        {
          "output_type": "execute_result",
          "data": {
            "text/html": [
              "<div>\n",
              "<style scoped>\n",
              "    .dataframe tbody tr th:only-of-type {\n",
              "        vertical-align: middle;\n",
              "    }\n",
              "\n",
              "    .dataframe tbody tr th {\n",
              "        vertical-align: top;\n",
              "    }\n",
              "\n",
              "    .dataframe thead th {\n",
              "        text-align: right;\n",
              "    }\n",
              "</style>\n",
              "<table border=\"1\" class=\"dataframe\">\n",
              "  <thead>\n",
              "    <tr style=\"text-align: right;\">\n",
              "      <th>Predicted Result</th>\n",
              "      <th>0</th>\n",
              "      <th>1</th>\n",
              "    </tr>\n",
              "    <tr>\n",
              "      <th>Actual Result</th>\n",
              "      <th></th>\n",
              "      <th></th>\n",
              "    </tr>\n",
              "  </thead>\n",
              "  <tbody>\n",
              "    <tr>\n",
              "      <th>0</th>\n",
              "      <td>5063</td>\n",
              "      <td>5</td>\n",
              "    </tr>\n",
              "    <tr>\n",
              "      <th>1</th>\n",
              "      <td>3080</td>\n",
              "      <td>165</td>\n",
              "    </tr>\n",
              "  </tbody>\n",
              "</table>\n",
              "</div>"
            ],
            "text/plain": [
              "Predicted Result     0    1\n",
              "Actual Result              \n",
              "0                 5063    5\n",
              "1                 3080  165"
            ]
          },
          "metadata": {
            "tags": []
          },
          "execution_count": 69
        }
      ]
    },
    {
      "cell_type": "code",
      "metadata": {
        "colab_type": "code",
        "outputId": "5c50f84e-a309-4ae5-d077-53ae72401807",
        "id": "zrAChZVBZmzq",
        "colab": {
          "base_uri": "https://localhost:8080/",
          "height": 306
        }
      },
      "source": [
        "print(\"Confusion Matrix:\\n\", metrics.confusion_matrix(y_test, y_test_pred))\n",
        "print(\"Classification report:\\n\", metrics.classification_report(y_test, y_test_pred))\n",
        "print(\"Accuracy:\\t\", metrics.accuracy_score(y_test, y_test_pred))\n",
        "print(\"Precision:\\t\", metrics.precision_score(y_test, y_test_pred))\n",
        "print(\"Recall:   \\t\", metrics.recall_score(y_test, y_test_pred))\n",
        "print(\"ROC AUC score:\\t\", metrics.roc_auc_score(y_test, y_test_pred))"
      ],
      "execution_count": 70,
      "outputs": [
        {
          "output_type": "stream",
          "text": [
            "Confusion Matrix:\n",
            " [[5063    5]\n",
            " [3080  165]]\n",
            "Classification report:\n",
            "               precision    recall  f1-score   support\n",
            "\n",
            "           0       0.62      1.00      0.77      5068\n",
            "           1       0.97      0.05      0.10      3245\n",
            "\n",
            "    accuracy                           0.63      8313\n",
            "   macro avg       0.80      0.52      0.43      8313\n",
            "weighted avg       0.76      0.63      0.51      8313\n",
            "\n",
            "Accuracy:\t 0.6288945025863106\n",
            "Precision:\t 0.9705882352941176\n",
            "Recall:   \t 0.05084745762711865\n",
            "ROC AUC score:\t 0.5249304375744117\n"
          ],
          "name": "stdout"
        }
      ]
    },
    {
      "cell_type": "markdown",
      "metadata": {
        "colab_type": "text",
        "id": "YVBCeh3CZmzv"
      },
      "source": [
        "#### Logistic Regression - CV"
      ]
    },
    {
      "cell_type": "code",
      "metadata": {
        "colab_type": "code",
        "id": "Fn5dwL2ZZmzv",
        "colab": {
          "base_uri": "https://localhost:8080/",
          "height": 51
        },
        "outputId": "640ff8c1-e181-4878-968d-6d23e2bf95f6"
      },
      "source": [
        "penalty = ['l2']\n",
        "C = np.logspace(-4, 4, 10)\n",
        "hyperparameters = dict(C=C, penalty=penalty)\n",
        "\n",
        "logreg_gridsearchCV = GridSearchCV(LogisticRegression(solver = 'lbfgs'), hyperparameters, cv=5, verbose=0)\n",
        "\n",
        "logreg_gridsearchCV.fit(cv_train_reviews, y_train)\n",
        "\n",
        "print('Best Penalty:', logreg_gridsearchCV.best_estimator_.get_params()['penalty'])\n",
        "print('Best C:', logreg_gridsearchCV.best_estimator_.get_params()['C'])"
      ],
      "execution_count": 71,
      "outputs": [
        {
          "output_type": "stream",
          "text": [
            "Best Penalty: l2\n",
            "Best C: 0.0001\n"
          ],
          "name": "stdout"
        }
      ]
    },
    {
      "cell_type": "code",
      "metadata": {
        "colab_type": "code",
        "id": "E-YKuk-LZmzy",
        "colab": {
          "base_uri": "https://localhost:8080/",
          "height": 142
        },
        "outputId": "7cb9c88e-dffe-4c4f-a204-f002511ab8f5"
      },
      "source": [
        "y_test_pred = logreg_gridsearchCV.predict(cv_test_reviews)\n",
        "pd.crosstab(y_test, y_test_pred, rownames=['Actual Result'], colnames=['Predicted Result'])"
      ],
      "execution_count": 72,
      "outputs": [
        {
          "output_type": "execute_result",
          "data": {
            "text/html": [
              "<div>\n",
              "<style scoped>\n",
              "    .dataframe tbody tr th:only-of-type {\n",
              "        vertical-align: middle;\n",
              "    }\n",
              "\n",
              "    .dataframe tbody tr th {\n",
              "        vertical-align: top;\n",
              "    }\n",
              "\n",
              "    .dataframe thead th {\n",
              "        text-align: right;\n",
              "    }\n",
              "</style>\n",
              "<table border=\"1\" class=\"dataframe\">\n",
              "  <thead>\n",
              "    <tr style=\"text-align: right;\">\n",
              "      <th>Predicted Result</th>\n",
              "      <th>0</th>\n",
              "    </tr>\n",
              "    <tr>\n",
              "      <th>Actual Result</th>\n",
              "      <th></th>\n",
              "    </tr>\n",
              "  </thead>\n",
              "  <tbody>\n",
              "    <tr>\n",
              "      <th>0</th>\n",
              "      <td>5068</td>\n",
              "    </tr>\n",
              "    <tr>\n",
              "      <th>1</th>\n",
              "      <td>3245</td>\n",
              "    </tr>\n",
              "  </tbody>\n",
              "</table>\n",
              "</div>"
            ],
            "text/plain": [
              "Predicted Result     0\n",
              "Actual Result         \n",
              "0                 5068\n",
              "1                 3245"
            ]
          },
          "metadata": {
            "tags": []
          },
          "execution_count": 72
        }
      ]
    },
    {
      "cell_type": "code",
      "metadata": {
        "colab_type": "code",
        "id": "KDVdZjS-Zmz0",
        "colab": {
          "base_uri": "https://localhost:8080/",
          "height": 306
        },
        "outputId": "a27cc4a4-df53-45fa-f1c8-921b67298711"
      },
      "source": [
        "print(\"Confusion Matrix:\\n\", metrics.confusion_matrix(y_test, y_test_pred))\n",
        "print(\"Classification report:\\n\", metrics.classification_report(y_test, y_test_pred))\n",
        "print(\"Accuracy:\\t\", metrics.accuracy_score(y_test, y_test_pred))\n",
        "print(\"Precision:\\t\", metrics.precision_score(y_test, y_test_pred))\n",
        "print(\"Recall:   \\t\", metrics.recall_score(y_test, y_test_pred))\n",
        "print(\"ROC AUC score:\\t\", metrics.roc_auc_score(y_test, y_test_pred))"
      ],
      "execution_count": 73,
      "outputs": [
        {
          "output_type": "stream",
          "text": [
            "Confusion Matrix:\n",
            " [[5068    0]\n",
            " [3245    0]]\n",
            "Classification report:\n",
            "               precision    recall  f1-score   support\n",
            "\n",
            "           0       0.61      1.00      0.76      5068\n",
            "           1       0.00      0.00      0.00      3245\n",
            "\n",
            "    accuracy                           0.61      8313\n",
            "   macro avg       0.30      0.50      0.38      8313\n",
            "weighted avg       0.37      0.61      0.46      8313\n",
            "\n",
            "Accuracy:\t 0.6096475399975941\n",
            "Precision:\t 0.0\n",
            "Recall:   \t 0.0\n",
            "ROC AUC score:\t 0.5\n"
          ],
          "name": "stdout"
        }
      ]
    },
    {
      "cell_type": "code",
      "metadata": {
        "colab_type": "code",
        "id": "8i9hlXrkZmz2",
        "colab": {}
      },
      "source": [
        ""
      ],
      "execution_count": 0,
      "outputs": []
    },
    {
      "cell_type": "markdown",
      "metadata": {
        "colab_type": "text",
        "id": "GLtJyCVaZmz4"
      },
      "source": [
        "#### Support Vector Machine"
      ]
    },
    {
      "cell_type": "markdown",
      "metadata": {
        "colab_type": "text",
        "id": "9V_48qnYZmz5"
      },
      "source": [
        "Linear Kernel"
      ]
    },
    {
      "cell_type": "code",
      "metadata": {
        "colab_type": "code",
        "id": "AcxBDks1Zmz5",
        "colab": {}
      },
      "source": [
        "svm_lin = svm.SVC(kernel = \"linear\")"
      ],
      "execution_count": 0,
      "outputs": []
    },
    {
      "cell_type": "code",
      "metadata": {
        "colab_type": "code",
        "id": "vHfrKDPHZmz8",
        "colab": {}
      },
      "source": [
        "svm_lin.fit(cv_train_reviews, y_train)\n",
        "y_test_pred = svm_lin.predict(cv_test_reviews)"
      ],
      "execution_count": 0,
      "outputs": []
    },
    {
      "cell_type": "code",
      "metadata": {
        "colab_type": "code",
        "id": "bwNcnBhGZmz_",
        "colab": {
          "base_uri": "https://localhost:8080/",
          "height": 142
        },
        "outputId": "1578e49e-3bb0-4cf8-bfb1-f4b58bc1ed01"
      },
      "source": [
        "pd.crosstab(y_test, y_test_pred, rownames=['Actual Result'], colnames=['Predicted Result'])"
      ],
      "execution_count": 76,
      "outputs": [
        {
          "output_type": "execute_result",
          "data": {
            "text/html": [
              "<div>\n",
              "<style scoped>\n",
              "    .dataframe tbody tr th:only-of-type {\n",
              "        vertical-align: middle;\n",
              "    }\n",
              "\n",
              "    .dataframe tbody tr th {\n",
              "        vertical-align: top;\n",
              "    }\n",
              "\n",
              "    .dataframe thead th {\n",
              "        text-align: right;\n",
              "    }\n",
              "</style>\n",
              "<table border=\"1\" class=\"dataframe\">\n",
              "  <thead>\n",
              "    <tr style=\"text-align: right;\">\n",
              "      <th>Predicted Result</th>\n",
              "      <th>0</th>\n",
              "      <th>1</th>\n",
              "    </tr>\n",
              "    <tr>\n",
              "      <th>Actual Result</th>\n",
              "      <th></th>\n",
              "      <th></th>\n",
              "    </tr>\n",
              "  </thead>\n",
              "  <tbody>\n",
              "    <tr>\n",
              "      <th>0</th>\n",
              "      <td>5059</td>\n",
              "      <td>9</td>\n",
              "    </tr>\n",
              "    <tr>\n",
              "      <th>1</th>\n",
              "      <td>3081</td>\n",
              "      <td>164</td>\n",
              "    </tr>\n",
              "  </tbody>\n",
              "</table>\n",
              "</div>"
            ],
            "text/plain": [
              "Predicted Result     0    1\n",
              "Actual Result              \n",
              "0                 5059    9\n",
              "1                 3081  164"
            ]
          },
          "metadata": {
            "tags": []
          },
          "execution_count": 76
        }
      ]
    },
    {
      "cell_type": "code",
      "metadata": {
        "colab_type": "code",
        "id": "Vu-iElDFZm0D",
        "colab": {
          "base_uri": "https://localhost:8080/",
          "height": 306
        },
        "outputId": "5066db93-2da7-4ba8-d73b-fb1b642a2b3f"
      },
      "source": [
        "print(\"Confusion Matrix:\\n\", metrics.confusion_matrix(y_test, y_test_pred))\n",
        "print(\"Classification report:\\n\", metrics.classification_report(y_test, y_test_pred))\n",
        "print(\"Accuracy:\\t\", metrics.accuracy_score(y_test, y_test_pred))\n",
        "print(\"Precision:\\t\", metrics.precision_score(y_test, y_test_pred))\n",
        "print(\"Recall:   \\t\", metrics.recall_score(y_test, y_test_pred))\n",
        "print(\"ROC AUC score:\\t\", metrics.roc_auc_score(y_test, y_test_pred))"
      ],
      "execution_count": 77,
      "outputs": [
        {
          "output_type": "stream",
          "text": [
            "Confusion Matrix:\n",
            " [[5059    9]\n",
            " [3081  164]]\n",
            "Classification report:\n",
            "               precision    recall  f1-score   support\n",
            "\n",
            "           0       0.62      1.00      0.77      5068\n",
            "           1       0.95      0.05      0.10      3245\n",
            "\n",
            "    accuracy                           0.63      8313\n",
            "   macro avg       0.78      0.52      0.43      8313\n",
            "weighted avg       0.75      0.63      0.50      8313\n",
            "\n",
            "Accuracy:\t 0.6282930350054132\n",
            "Precision:\t 0.9479768786127167\n",
            "Recall:   \t 0.050539291217257316\n",
            "ROC AUC score:\t 0.524381721378163\n"
          ],
          "name": "stdout"
        }
      ]
    },
    {
      "cell_type": "code",
      "metadata": {
        "colab_type": "code",
        "id": "iaVXzK8gZm0H",
        "colab": {}
      },
      "source": [
        ""
      ],
      "execution_count": 0,
      "outputs": []
    },
    {
      "cell_type": "markdown",
      "metadata": {
        "colab_type": "text",
        "id": "1HGV7sjhZm0L"
      },
      "source": [
        "#### Random Forest Classification"
      ]
    },
    {
      "cell_type": "code",
      "metadata": {
        "colab_type": "code",
        "id": "5hjtk5P3Zm0L",
        "colab": {}
      },
      "source": [
        "rf = RandomForestClassifier(n_estimators = 100, random_state = 42)"
      ],
      "execution_count": 0,
      "outputs": []
    },
    {
      "cell_type": "code",
      "metadata": {
        "colab_type": "code",
        "id": "ea7hvlPtZm0O",
        "colab": {}
      },
      "source": [
        "rf.fit(cv_train_reviews, y_train)\n",
        "y_test_pred = rf.predict(cv_test_reviews)\n",
        "rf.score(cv_test_reviews, y_test)"
      ],
      "execution_count": 0,
      "outputs": []
    },
    {
      "cell_type": "code",
      "metadata": {
        "colab_type": "code",
        "id": "JDrBl4wtZm0Q",
        "colab": {}
      },
      "source": [
        "pd.crosstab(y_test, y_test_pred, rownames=['Actual Result'], colnames=['Predicted Result'])"
      ],
      "execution_count": 0,
      "outputs": []
    },
    {
      "cell_type": "code",
      "metadata": {
        "colab_type": "code",
        "id": "rNxm3VSmZm0T",
        "colab": {}
      },
      "source": [
        "print(\"Confusion Matrix:\\n\", metrics.confusion_matrix(y_test, y_test_pred))\n",
        "print(\"Classification report:\\n\", metrics.classification_report(y_test, y_test_pred))\n",
        "print(\"Accuracy:\\t\", metrics.accuracy_score(y_test, y_test_pred))\n",
        "print(\"Precision:\\t\", metrics.precision_score(y_test, y_test_pred))\n",
        "print(\"Recall:   \\t\", metrics.recall_score(y_test, y_test_pred))\n",
        "print(\"ROC AUC score:\\t\", metrics.roc_auc_score(y_test, y_test_pred))"
      ],
      "execution_count": 0,
      "outputs": []
    },
    {
      "cell_type": "code",
      "metadata": {
        "colab_type": "code",
        "id": "yG6Ui63pZm0V",
        "colab": {}
      },
      "source": [
        ""
      ],
      "execution_count": 0,
      "outputs": []
    },
    {
      "cell_type": "code",
      "metadata": {
        "colab_type": "code",
        "id": "eYt_lWrrZm0f",
        "colab": {}
      },
      "source": [
        ""
      ],
      "execution_count": 0,
      "outputs": []
    },
    {
      "cell_type": "code",
      "metadata": {
        "colab_type": "code",
        "id": "0jMPTmrdZm0h",
        "colab": {}
      },
      "source": [
        ""
      ],
      "execution_count": 0,
      "outputs": []
    },
    {
      "cell_type": "markdown",
      "metadata": {
        "colab_type": "text",
        "id": "GWLoLVq0Zm0j"
      },
      "source": [
        "## TF_IDF Vectorizer"
      ]
    },
    {
      "cell_type": "code",
      "metadata": {
        "colab_type": "code",
        "id": "qNJ97ThmZm0j",
        "colab": {}
      },
      "source": [
        "X_train, X_test, y_train, y_test = train_test_split(reviews_csat[\"reviewText_1\"], reviews_csat[\"csat\"], train_size = 0.7)\n",
        "\n",
        "print(X_train.shape,y_train.shape)\n",
        "print(X_test.shape,y_test.shape)\n",
        "\n",
        "tv=TfidfVectorizer(min_df=0,max_df=1,use_idf=True,ngram_range=(1,3))\n",
        "#transformed train reviews\n",
        "tv_train_reviews=tv.fit_transform(X_train)\n",
        "#transformed test reviews\n",
        "tv_test_reviews=tv.transform(X_test)\n",
        "print('Tfidf_train:',tv_train_reviews.shape)\n",
        "print('Tfidf_test:',tv_test_reviews.shape)"
      ],
      "execution_count": 0,
      "outputs": []
    },
    {
      "cell_type": "markdown",
      "metadata": {
        "colab_type": "text",
        "id": "riFoSIHeZm0l"
      },
      "source": [
        "### Machine Learning Algorithms"
      ]
    },
    {
      "cell_type": "code",
      "metadata": {
        "colab_type": "code",
        "id": "lzEsAiqLZm0m",
        "colab": {}
      },
      "source": [
        "# import ML libraries\n",
        "from sklearn.preprocessing import StandardScaler\n",
        "from sklearn.model_selection import train_test_split\n",
        "from sklearn.model_selection import GridSearchCV\n",
        "from sklearn.linear_model import LogisticRegression\n",
        "from sklearn import metrics\n",
        "from sklearn import svm\n",
        "from matplotlib.colors import ListedColormap\n",
        "from sklearn.ensemble import RandomForestClassifier"
      ],
      "execution_count": 0,
      "outputs": []
    },
    {
      "cell_type": "markdown",
      "metadata": {
        "colab_type": "text",
        "id": "ntjkF-rfZm0o"
      },
      "source": [
        "#### Logistic Regression"
      ]
    },
    {
      "cell_type": "code",
      "metadata": {
        "colab_type": "code",
        "id": "c9AeI3iJZm0o",
        "colab": {}
      },
      "source": [
        "logreg = LogisticRegression()"
      ],
      "execution_count": 0,
      "outputs": []
    },
    {
      "cell_type": "code",
      "metadata": {
        "colab_type": "code",
        "id": "RLS2W9y1Zm0s",
        "colab": {}
      },
      "source": [
        "logreg.fit(tv_train_reviews, y_train)\n",
        "y_train_pred = logreg.predict(tv_train_reviews)\n",
        "y_test_pred = logreg.predict(tv_test_reviews)"
      ],
      "execution_count": 0,
      "outputs": []
    },
    {
      "cell_type": "code",
      "metadata": {
        "colab_type": "code",
        "id": "P79bNvMwZm0w",
        "colab": {}
      },
      "source": [
        "pd.crosstab(y_train, y_train_pred, rownames=['Actual Result'], colnames=['Predicted Result'])"
      ],
      "execution_count": 0,
      "outputs": []
    },
    {
      "cell_type": "code",
      "metadata": {
        "colab_type": "code",
        "id": "jfb4ahjPZm0y",
        "colab": {}
      },
      "source": [
        "pd.crosstab(y_test, y_test_pred, rownames=['Actual Result'], colnames=['Predicted Result'])"
      ],
      "execution_count": 0,
      "outputs": []
    },
    {
      "cell_type": "code",
      "metadata": {
        "colab_type": "code",
        "id": "VNbT5jm5Zm02",
        "colab": {}
      },
      "source": [
        "print(\"Confusion Matrix:\\n\", metrics.confusion_matrix(y_test, y_test_pred))\n",
        "print(\"Classification report:\\n\", metrics.classification_report(y_test, y_test_pred))\n",
        "print(\"Accuracy:\\t\", metrics.accuracy_score(y_test, y_test_pred))\n",
        "print(\"Precision:\\t\", metrics.precision_score(y_test, y_test_pred))\n",
        "print(\"Recall:   \\t\", metrics.recall_score(y_test, y_test_pred))\n",
        "print(\"ROC AUC score:\\t\", metrics.roc_auc_score(y_test, y_test_pred))"
      ],
      "execution_count": 0,
      "outputs": []
    },
    {
      "cell_type": "code",
      "metadata": {
        "colab_type": "code",
        "id": "km-wLir0Zm04",
        "colab": {}
      },
      "source": [
        "print(\"Confusion Matrix:\\n\", metrics.confusion_matrix(y_train, y_train_pred))\n",
        "print(\"Classification report:\\n\", metrics.classification_report(y_train, y_train_pred))\n",
        "print(\"Accuracy:\\t\", metrics.accuracy_score(y_train, y_train_pred))\n",
        "print(\"Precision:\\t\", metrics.precision_score(y_train, y_train_pred))\n",
        "print(\"Recall:   \\t\", metrics.recall_score(y_train, y_train_pred))\n",
        "print(\"ROC AUC score:\\t\", metrics.roc_auc_score(y_train, y_train_pred))"
      ],
      "execution_count": 0,
      "outputs": []
    },
    {
      "cell_type": "markdown",
      "metadata": {
        "colab_type": "text",
        "id": "TiCBeuJaZm07"
      },
      "source": [
        "#### Logistic Regression - CV"
      ]
    },
    {
      "cell_type": "code",
      "metadata": {
        "colab_type": "code",
        "id": "qnK0iuoTZm08",
        "colab": {}
      },
      "source": [
        "penalty = ['l2']\n",
        "C = np.logspace(-4, 4, 10)\n",
        "hyperparameters = dict(C=C, penalty=penalty)\n",
        "\n",
        "logreg_gridsearchCV = GridSearchCV(LogisticRegression(solver = 'lbfgs'), hyperparameters, cv=5, verbose=0)\n",
        "\n",
        "logreg_gridsearchCV.fit(tv_train_reviews, y_train)\n",
        "\n",
        "print('Best Penalty:', logreg_gridsearchCV.best_estimator_.get_params()['penalty'])\n",
        "print('Best C:', logreg_gridsearchCV.best_estimator_.get_params()['C'])"
      ],
      "execution_count": 0,
      "outputs": []
    },
    {
      "cell_type": "code",
      "metadata": {
        "colab_type": "code",
        "id": "a2kQg6nKZm0-",
        "colab": {}
      },
      "source": [
        "y_test_pred = logreg_gridsearchCV.predict(tv_test_reviews)\n",
        "pd.crosstab(y_test, y_test_pred, rownames=['Actual Result'], colnames=['Predicted Result'])"
      ],
      "execution_count": 0,
      "outputs": []
    },
    {
      "cell_type": "code",
      "metadata": {
        "colab_type": "code",
        "id": "ubC-QiGYZm1B",
        "colab": {}
      },
      "source": [
        "print(\"Confusion Matrix:\\n\", metrics.confusion_matrix(y_test, y_test_pred))\n",
        "print(\"Classification report:\\n\", metrics.classification_report(y_test, y_test_pred))\n",
        "print(\"Accuracy:\\t\", metrics.accuracy_score(y_test, y_test_pred))\n",
        "print(\"Precision:\\t\", metrics.precision_score(y_test, y_test_pred))\n",
        "print(\"Recall:   \\t\", metrics.recall_score(y_test, y_test_pred))\n",
        "print(\"ROC AUC score:\\t\", metrics.roc_auc_score(y_test, y_test_pred))"
      ],
      "execution_count": 0,
      "outputs": []
    },
    {
      "cell_type": "code",
      "metadata": {
        "colab_type": "code",
        "id": "QyFNQeMFZm1D",
        "colab": {}
      },
      "source": [
        ""
      ],
      "execution_count": 0,
      "outputs": []
    },
    {
      "cell_type": "markdown",
      "metadata": {
        "colab_type": "text",
        "id": "wNfwnAlSZm1H"
      },
      "source": [
        "#### Support Vector Machine"
      ]
    },
    {
      "cell_type": "markdown",
      "metadata": {
        "colab_type": "text",
        "id": "sRzOfJtQZm1H"
      },
      "source": [
        "Linear Kernel"
      ]
    },
    {
      "cell_type": "code",
      "metadata": {
        "colab_type": "code",
        "id": "0LSb2lzNZm1I",
        "colab": {}
      },
      "source": [
        "svm_lin = svm.SVC(kernel = \"linear\")"
      ],
      "execution_count": 0,
      "outputs": []
    },
    {
      "cell_type": "code",
      "metadata": {
        "colab_type": "code",
        "id": "qs50oSD7Zm1K",
        "colab": {}
      },
      "source": [
        "svm_lin.fit(tv_train_reviews, y_train)\n",
        "y_test_pred = svm_lin.predict(tv_test_reviews)"
      ],
      "execution_count": 0,
      "outputs": []
    },
    {
      "cell_type": "code",
      "metadata": {
        "colab_type": "code",
        "id": "7WbwkpBYZm1N",
        "colab": {}
      },
      "source": [
        "pd.crosstab(y_test, y_test_pred, rownames=['Actual Result'], colnames=['Predicted Result'])"
      ],
      "execution_count": 0,
      "outputs": []
    },
    {
      "cell_type": "code",
      "metadata": {
        "colab_type": "code",
        "id": "tzUsH1rVZm1P",
        "colab": {}
      },
      "source": [
        "print(\"Confusion Matrix:\\n\", metrics.confusion_matrix(y_test, y_test_pred))\n",
        "print(\"Classification report:\\n\", metrics.classification_report(y_test, y_test_pred))\n",
        "print(\"Accuracy:\\t\", metrics.accuracy_score(y_test, y_test_pred))\n",
        "print(\"Precision:\\t\", metrics.precision_score(y_test, y_test_pred))\n",
        "print(\"Recall:   \\t\", metrics.recall_score(y_test, y_test_pred))\n",
        "print(\"ROC AUC score:\\t\", metrics.roc_auc_score(y_test, y_test_pred))"
      ],
      "execution_count": 0,
      "outputs": []
    },
    {
      "cell_type": "code",
      "metadata": {
        "colab_type": "code",
        "id": "mxxRyBHmZm1R",
        "colab": {}
      },
      "source": [
        ""
      ],
      "execution_count": 0,
      "outputs": []
    },
    {
      "cell_type": "markdown",
      "metadata": {
        "colab_type": "text",
        "id": "oc0aodBmZm1U"
      },
      "source": [
        "#### Random Forest Classification"
      ]
    },
    {
      "cell_type": "code",
      "metadata": {
        "colab_type": "code",
        "id": "2qKiDHq0Zm1U",
        "colab": {}
      },
      "source": [
        "rf = RandomForestClassifier(n_estimators = 100, random_state = 42)"
      ],
      "execution_count": 0,
      "outputs": []
    },
    {
      "cell_type": "code",
      "metadata": {
        "colab_type": "code",
        "id": "9ubw10hmZm1W",
        "colab": {}
      },
      "source": [
        "rf.fit(tv_train_reviews, y_train)\n",
        "y_test_pred = rf.predict(tv_test_reviews)\n",
        "rf.score(tv_test_reviews, y_test)"
      ],
      "execution_count": 0,
      "outputs": []
    },
    {
      "cell_type": "code",
      "metadata": {
        "colab_type": "code",
        "id": "nndvJeYCZm1Z",
        "colab": {}
      },
      "source": [
        "pd.crosstab(y_test, y_test_pred, rownames=['Actual Result'], colnames=['Predicted Result'])"
      ],
      "execution_count": 0,
      "outputs": []
    },
    {
      "cell_type": "code",
      "metadata": {
        "colab_type": "code",
        "id": "YSTAtuRfZm1b",
        "colab": {}
      },
      "source": [
        "print(\"Confusion Matrix:\\n\", metrics.confusion_matrix(y_test, y_test_pred))\n",
        "print(\"Classification report:\\n\", metrics.classification_report(y_test, y_test_pred))\n",
        "print(\"Accuracy:\\t\", metrics.accuracy_score(y_test, y_test_pred))\n",
        "print(\"Precision:\\t\", metrics.precision_score(y_test, y_test_pred))\n",
        "print(\"Recall:   \\t\", metrics.recall_score(y_test, y_test_pred))\n",
        "print(\"ROC AUC score:\\t\", metrics.roc_auc_score(y_test, y_test_pred))"
      ],
      "execution_count": 0,
      "outputs": []
    },
    {
      "cell_type": "code",
      "metadata": {
        "colab_type": "code",
        "id": "IxzAwjLMZm1f",
        "colab": {}
      },
      "source": [
        ""
      ],
      "execution_count": 0,
      "outputs": []
    },
    {
      "cell_type": "markdown",
      "metadata": {
        "id": "kELARvumX8tz",
        "colab_type": "text"
      },
      "source": [
        ""
      ]
    }
  ]
}